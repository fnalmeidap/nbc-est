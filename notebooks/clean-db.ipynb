{
 "cells": [
  {
   "cell_type": "code",
   "execution_count": 1,
   "metadata": {},
   "outputs": [],
   "source": [
    "import pandas as pd\n",
    "pd.set_option('display.max_colwidth', None)"
   ]
  },
  {
   "cell_type": "code",
   "execution_count": 2,
   "metadata": {},
   "outputs": [],
   "source": [
    "MAT_DIR = '../data/student-mat.csv'"
   ]
  },
  {
   "cell_type": "code",
   "execution_count": 3,
   "metadata": {},
   "outputs": [],
   "source": [
    "mat_df = pd.read_csv(MAT_DIR, sep=';')"
   ]
  },
  {
   "cell_type": "code",
   "execution_count": 4,
   "metadata": {},
   "outputs": [],
   "source": [
    "mat = mat_df[['address', 'famsize', 'Pstatus', 'Medu', 'Fedu', 'Mjob', 'Fjob', 'famsup', 'studytime', 'famrel', 'absences', 'internet', 'G1', 'G2', 'G3']]"
   ]
  },
  {
   "cell_type": "code",
   "execution_count": 5,
   "metadata": {},
   "outputs": [
    {
     "output_type": "execute_result",
     "data": {
      "text/plain": [
       "    address famsize Pstatus  Medu  Fedu      Mjob      Fjob famsup  studytime  \\\n",
       "0         U     GT3       A     4     4   at_home   teacher     no          2   \n",
       "1         U     GT3       T     1     1   at_home     other    yes          2   \n",
       "2         U     LE3       T     1     1   at_home     other     no          2   \n",
       "3         U     GT3       T     4     2    health  services    yes          3   \n",
       "4         U     GT3       T     3     3     other     other    yes          2   \n",
       "..      ...     ...     ...   ...   ...       ...       ...    ...        ...   \n",
       "390       U     LE3       A     2     2  services  services    yes          2   \n",
       "391       U     LE3       T     3     1  services  services     no          1   \n",
       "392       R     GT3       T     1     1     other     other     no          1   \n",
       "393       R     LE3       T     3     2  services     other     no          1   \n",
       "394       U     LE3       T     1     1     other   at_home     no          1   \n",
       "\n",
       "     famrel  absences internet  G1  G2  G3  \n",
       "0         4         6       no   5   6   6  \n",
       "1         5         4      yes   5   5   6  \n",
       "2         4        10      yes   7   8  10  \n",
       "3         3         2      yes  15  14  15  \n",
       "4         4         4       no   6  10  10  \n",
       "..      ...       ...      ...  ..  ..  ..  \n",
       "390       5        11       no   9   9   9  \n",
       "391       2         3      yes  14  16  16  \n",
       "392       5         3       no  10   8   7  \n",
       "393       4         0      yes  11  12  10  \n",
       "394       3         5      yes   8   9   9  \n",
       "\n",
       "[395 rows x 15 columns]"
      ],
      "text/html": "<div>\n<style scoped>\n    .dataframe tbody tr th:only-of-type {\n        vertical-align: middle;\n    }\n\n    .dataframe tbody tr th {\n        vertical-align: top;\n    }\n\n    .dataframe thead th {\n        text-align: right;\n    }\n</style>\n<table border=\"1\" class=\"dataframe\">\n  <thead>\n    <tr style=\"text-align: right;\">\n      <th></th>\n      <th>address</th>\n      <th>famsize</th>\n      <th>Pstatus</th>\n      <th>Medu</th>\n      <th>Fedu</th>\n      <th>Mjob</th>\n      <th>Fjob</th>\n      <th>famsup</th>\n      <th>studytime</th>\n      <th>famrel</th>\n      <th>absences</th>\n      <th>internet</th>\n      <th>G1</th>\n      <th>G2</th>\n      <th>G3</th>\n    </tr>\n  </thead>\n  <tbody>\n    <tr>\n      <th>0</th>\n      <td>U</td>\n      <td>GT3</td>\n      <td>A</td>\n      <td>4</td>\n      <td>4</td>\n      <td>at_home</td>\n      <td>teacher</td>\n      <td>no</td>\n      <td>2</td>\n      <td>4</td>\n      <td>6</td>\n      <td>no</td>\n      <td>5</td>\n      <td>6</td>\n      <td>6</td>\n    </tr>\n    <tr>\n      <th>1</th>\n      <td>U</td>\n      <td>GT3</td>\n      <td>T</td>\n      <td>1</td>\n      <td>1</td>\n      <td>at_home</td>\n      <td>other</td>\n      <td>yes</td>\n      <td>2</td>\n      <td>5</td>\n      <td>4</td>\n      <td>yes</td>\n      <td>5</td>\n      <td>5</td>\n      <td>6</td>\n    </tr>\n    <tr>\n      <th>2</th>\n      <td>U</td>\n      <td>LE3</td>\n      <td>T</td>\n      <td>1</td>\n      <td>1</td>\n      <td>at_home</td>\n      <td>other</td>\n      <td>no</td>\n      <td>2</td>\n      <td>4</td>\n      <td>10</td>\n      <td>yes</td>\n      <td>7</td>\n      <td>8</td>\n      <td>10</td>\n    </tr>\n    <tr>\n      <th>3</th>\n      <td>U</td>\n      <td>GT3</td>\n      <td>T</td>\n      <td>4</td>\n      <td>2</td>\n      <td>health</td>\n      <td>services</td>\n      <td>yes</td>\n      <td>3</td>\n      <td>3</td>\n      <td>2</td>\n      <td>yes</td>\n      <td>15</td>\n      <td>14</td>\n      <td>15</td>\n    </tr>\n    <tr>\n      <th>4</th>\n      <td>U</td>\n      <td>GT3</td>\n      <td>T</td>\n      <td>3</td>\n      <td>3</td>\n      <td>other</td>\n      <td>other</td>\n      <td>yes</td>\n      <td>2</td>\n      <td>4</td>\n      <td>4</td>\n      <td>no</td>\n      <td>6</td>\n      <td>10</td>\n      <td>10</td>\n    </tr>\n    <tr>\n      <th>...</th>\n      <td>...</td>\n      <td>...</td>\n      <td>...</td>\n      <td>...</td>\n      <td>...</td>\n      <td>...</td>\n      <td>...</td>\n      <td>...</td>\n      <td>...</td>\n      <td>...</td>\n      <td>...</td>\n      <td>...</td>\n      <td>...</td>\n      <td>...</td>\n      <td>...</td>\n    </tr>\n    <tr>\n      <th>390</th>\n      <td>U</td>\n      <td>LE3</td>\n      <td>A</td>\n      <td>2</td>\n      <td>2</td>\n      <td>services</td>\n      <td>services</td>\n      <td>yes</td>\n      <td>2</td>\n      <td>5</td>\n      <td>11</td>\n      <td>no</td>\n      <td>9</td>\n      <td>9</td>\n      <td>9</td>\n    </tr>\n    <tr>\n      <th>391</th>\n      <td>U</td>\n      <td>LE3</td>\n      <td>T</td>\n      <td>3</td>\n      <td>1</td>\n      <td>services</td>\n      <td>services</td>\n      <td>no</td>\n      <td>1</td>\n      <td>2</td>\n      <td>3</td>\n      <td>yes</td>\n      <td>14</td>\n      <td>16</td>\n      <td>16</td>\n    </tr>\n    <tr>\n      <th>392</th>\n      <td>R</td>\n      <td>GT3</td>\n      <td>T</td>\n      <td>1</td>\n      <td>1</td>\n      <td>other</td>\n      <td>other</td>\n      <td>no</td>\n      <td>1</td>\n      <td>5</td>\n      <td>3</td>\n      <td>no</td>\n      <td>10</td>\n      <td>8</td>\n      <td>7</td>\n    </tr>\n    <tr>\n      <th>393</th>\n      <td>R</td>\n      <td>LE3</td>\n      <td>T</td>\n      <td>3</td>\n      <td>2</td>\n      <td>services</td>\n      <td>other</td>\n      <td>no</td>\n      <td>1</td>\n      <td>4</td>\n      <td>0</td>\n      <td>yes</td>\n      <td>11</td>\n      <td>12</td>\n      <td>10</td>\n    </tr>\n    <tr>\n      <th>394</th>\n      <td>U</td>\n      <td>LE3</td>\n      <td>T</td>\n      <td>1</td>\n      <td>1</td>\n      <td>other</td>\n      <td>at_home</td>\n      <td>no</td>\n      <td>1</td>\n      <td>3</td>\n      <td>5</td>\n      <td>yes</td>\n      <td>8</td>\n      <td>9</td>\n      <td>9</td>\n    </tr>\n  </tbody>\n</table>\n<p>395 rows × 15 columns</p>\n</div>"
     },
     "metadata": {},
     "execution_count": 5
    }
   ],
   "source": [
    "mat"
   ]
  },
  {
   "cell_type": "code",
   "execution_count": 6,
   "metadata": {},
   "outputs": [],
   "source": [
    "mat = mat.replace(\"U\", 0)\n",
    "mat = mat.replace(\"R\", 1)\n",
    "mat = mat.replace(\"GT3\", 0)\n",
    "mat = mat.replace(\"LE3\", 1)\n",
    "mat = mat.replace(\"A\", 0)\n",
    "mat = mat.replace(\"T\", 1)\n",
    "mat = mat.replace(\"at_home\", 0)\n",
    "mat = mat.replace(\"health\", 0)\n",
    "mat = mat.replace(\"services\", 0)\n",
    "mat = mat.replace(\"teacher\", 1)\n",
    "mat = mat.replace(\"other\", 0)\n",
    "mat = mat.replace(\"no\", 0)\n",
    "mat = mat.replace(\"yes\", 1)"
   ]
  },
  {
   "cell_type": "code",
   "execution_count": 7,
   "metadata": {},
   "outputs": [],
   "source": [
    "labels = [\"{0}\".format(i) for i in range(0,4)]\n",
    "mat[\"G1\"] = pd.cut(mat.G1,[0,5,10,15,20], right=True,include_lowest=True, labels=labels)\n",
    "mat[\"G2\"] = pd.cut(mat.G2,[0,5,10,15,20], right=True,include_lowest=True, labels=labels)\n",
    "mat[\"G3\"] = pd.cut(mat.G3,[0,5,10,15,20], right=True,include_lowest=True, labels=labels)\n"
   ]
  },
  {
   "cell_type": "code",
   "execution_count": 8,
   "metadata": {},
   "outputs": [
    {
     "output_type": "execute_result",
     "data": {
      "text/plain": [
       "     address  famsize  Pstatus  Medu  Fedu  Mjob  Fjob  famsup  studytime  \\\n",
       "0          0        0        0     4     4     0     1       0          2   \n",
       "1          0        0        1     1     1     0     0       1          2   \n",
       "2          0        1        1     1     1     0     0       0          2   \n",
       "3          0        0        1     4     2     0     0       1          3   \n",
       "4          0        0        1     3     3     0     0       1          2   \n",
       "..       ...      ...      ...   ...   ...   ...   ...     ...        ...   \n",
       "390        0        1        0     2     2     0     0       1          2   \n",
       "391        0        1        1     3     1     0     0       0          1   \n",
       "392        1        0        1     1     1     0     0       0          1   \n",
       "393        1        1        1     3     2     0     0       0          1   \n",
       "394        0        1        1     1     1     0     0       0          1   \n",
       "\n",
       "     famrel  absences  internet G1 G2 G3  \n",
       "0         4         6         0  0  1  1  \n",
       "1         5         4         1  0  0  1  \n",
       "2         4        10         1  1  1  1  \n",
       "3         3         2         1  2  2  2  \n",
       "4         4         4         0  1  1  1  \n",
       "..      ...       ...       ... .. .. ..  \n",
       "390       5        11         0  1  1  1  \n",
       "391       2         3         1  2  3  3  \n",
       "392       5         3         0  1  1  1  \n",
       "393       4         0         1  2  2  1  \n",
       "394       3         5         1  1  1  1  \n",
       "\n",
       "[395 rows x 15 columns]"
      ],
      "text/html": "<div>\n<style scoped>\n    .dataframe tbody tr th:only-of-type {\n        vertical-align: middle;\n    }\n\n    .dataframe tbody tr th {\n        vertical-align: top;\n    }\n\n    .dataframe thead th {\n        text-align: right;\n    }\n</style>\n<table border=\"1\" class=\"dataframe\">\n  <thead>\n    <tr style=\"text-align: right;\">\n      <th></th>\n      <th>address</th>\n      <th>famsize</th>\n      <th>Pstatus</th>\n      <th>Medu</th>\n      <th>Fedu</th>\n      <th>Mjob</th>\n      <th>Fjob</th>\n      <th>famsup</th>\n      <th>studytime</th>\n      <th>famrel</th>\n      <th>absences</th>\n      <th>internet</th>\n      <th>G1</th>\n      <th>G2</th>\n      <th>G3</th>\n    </tr>\n  </thead>\n  <tbody>\n    <tr>\n      <th>0</th>\n      <td>0</td>\n      <td>0</td>\n      <td>0</td>\n      <td>4</td>\n      <td>4</td>\n      <td>0</td>\n      <td>1</td>\n      <td>0</td>\n      <td>2</td>\n      <td>4</td>\n      <td>6</td>\n      <td>0</td>\n      <td>0</td>\n      <td>1</td>\n      <td>1</td>\n    </tr>\n    <tr>\n      <th>1</th>\n      <td>0</td>\n      <td>0</td>\n      <td>1</td>\n      <td>1</td>\n      <td>1</td>\n      <td>0</td>\n      <td>0</td>\n      <td>1</td>\n      <td>2</td>\n      <td>5</td>\n      <td>4</td>\n      <td>1</td>\n      <td>0</td>\n      <td>0</td>\n      <td>1</td>\n    </tr>\n    <tr>\n      <th>2</th>\n      <td>0</td>\n      <td>1</td>\n      <td>1</td>\n      <td>1</td>\n      <td>1</td>\n      <td>0</td>\n      <td>0</td>\n      <td>0</td>\n      <td>2</td>\n      <td>4</td>\n      <td>10</td>\n      <td>1</td>\n      <td>1</td>\n      <td>1</td>\n      <td>1</td>\n    </tr>\n    <tr>\n      <th>3</th>\n      <td>0</td>\n      <td>0</td>\n      <td>1</td>\n      <td>4</td>\n      <td>2</td>\n      <td>0</td>\n      <td>0</td>\n      <td>1</td>\n      <td>3</td>\n      <td>3</td>\n      <td>2</td>\n      <td>1</td>\n      <td>2</td>\n      <td>2</td>\n      <td>2</td>\n    </tr>\n    <tr>\n      <th>4</th>\n      <td>0</td>\n      <td>0</td>\n      <td>1</td>\n      <td>3</td>\n      <td>3</td>\n      <td>0</td>\n      <td>0</td>\n      <td>1</td>\n      <td>2</td>\n      <td>4</td>\n      <td>4</td>\n      <td>0</td>\n      <td>1</td>\n      <td>1</td>\n      <td>1</td>\n    </tr>\n    <tr>\n      <th>...</th>\n      <td>...</td>\n      <td>...</td>\n      <td>...</td>\n      <td>...</td>\n      <td>...</td>\n      <td>...</td>\n      <td>...</td>\n      <td>...</td>\n      <td>...</td>\n      <td>...</td>\n      <td>...</td>\n      <td>...</td>\n      <td>...</td>\n      <td>...</td>\n      <td>...</td>\n    </tr>\n    <tr>\n      <th>390</th>\n      <td>0</td>\n      <td>1</td>\n      <td>0</td>\n      <td>2</td>\n      <td>2</td>\n      <td>0</td>\n      <td>0</td>\n      <td>1</td>\n      <td>2</td>\n      <td>5</td>\n      <td>11</td>\n      <td>0</td>\n      <td>1</td>\n      <td>1</td>\n      <td>1</td>\n    </tr>\n    <tr>\n      <th>391</th>\n      <td>0</td>\n      <td>1</td>\n      <td>1</td>\n      <td>3</td>\n      <td>1</td>\n      <td>0</td>\n      <td>0</td>\n      <td>0</td>\n      <td>1</td>\n      <td>2</td>\n      <td>3</td>\n      <td>1</td>\n      <td>2</td>\n      <td>3</td>\n      <td>3</td>\n    </tr>\n    <tr>\n      <th>392</th>\n      <td>1</td>\n      <td>0</td>\n      <td>1</td>\n      <td>1</td>\n      <td>1</td>\n      <td>0</td>\n      <td>0</td>\n      <td>0</td>\n      <td>1</td>\n      <td>5</td>\n      <td>3</td>\n      <td>0</td>\n      <td>1</td>\n      <td>1</td>\n      <td>1</td>\n    </tr>\n    <tr>\n      <th>393</th>\n      <td>1</td>\n      <td>1</td>\n      <td>1</td>\n      <td>3</td>\n      <td>2</td>\n      <td>0</td>\n      <td>0</td>\n      <td>0</td>\n      <td>1</td>\n      <td>4</td>\n      <td>0</td>\n      <td>1</td>\n      <td>2</td>\n      <td>2</td>\n      <td>1</td>\n    </tr>\n    <tr>\n      <th>394</th>\n      <td>0</td>\n      <td>1</td>\n      <td>1</td>\n      <td>1</td>\n      <td>1</td>\n      <td>0</td>\n      <td>0</td>\n      <td>0</td>\n      <td>1</td>\n      <td>3</td>\n      <td>5</td>\n      <td>1</td>\n      <td>1</td>\n      <td>1</td>\n      <td>1</td>\n    </tr>\n  </tbody>\n</table>\n<p>395 rows × 15 columns</p>\n</div>"
     },
     "metadata": {},
     "execution_count": 8
    }
   ],
   "source": [
    "mat"
   ]
  },
  {
   "cell_type": "code",
   "execution_count": 9,
   "metadata": {},
   "outputs": [
    {
     "output_type": "execute_result",
     "data": {
      "text/plain": [
       "            address   famsize   Pstatus      Medu      Fedu      Mjob  \\\n",
       "address    1.000000 -0.072472  0.042572 -0.138804 -0.072178 -0.033030   \n",
       "famsize   -0.072472  1.000000 -0.149612 -0.043068 -0.058879  0.067259   \n",
       "Pstatus    0.042572 -0.149612  1.000000 -0.123565 -0.088730  0.023927   \n",
       "Medu      -0.138804 -0.043068 -0.123565  1.000000  0.623455  0.454911   \n",
       "Fedu      -0.072178 -0.058879 -0.088730  0.623455  1.000000  0.294526   \n",
       "Mjob      -0.033030  0.067259  0.023927  0.454911  0.294526  1.000000   \n",
       "Fjob      -0.010748 -0.072183 -0.063327  0.259836  0.347203  0.212309   \n",
       "famsup    -0.023903 -0.112893  0.019067  0.183727  0.185496  0.065572   \n",
       "studytime  0.020912 -0.073595  0.024294  0.064944 -0.009175 -0.009009   \n",
       "famrel    -0.014258 -0.022776  0.025179 -0.003914 -0.001370 -0.022122   \n",
       "absences   0.027874  0.035783 -0.134937  0.100285  0.024473  0.001688   \n",
       "internet  -0.216842  0.000720  0.070074  0.201463  0.127507  0.128292   \n",
       "\n",
       "               Fjob    famsup  studytime    famrel  absences  internet  \n",
       "address   -0.010748 -0.023903   0.020912 -0.014258  0.027874 -0.216842  \n",
       "famsize   -0.072183 -0.112893  -0.073595 -0.022776  0.035783  0.000720  \n",
       "Pstatus   -0.063327  0.019067   0.024294  0.025179 -0.134937  0.070074  \n",
       "Medu       0.259836  0.183727   0.064944 -0.003914  0.100285  0.201463  \n",
       "Fedu       0.347203  0.185496  -0.009175 -0.001370  0.024473  0.127507  \n",
       "Mjob       0.212309  0.065572  -0.009009 -0.022122  0.001688  0.128292  \n",
       "Fjob       1.000000  0.064417  -0.058225 -0.069204 -0.024964 -0.030037  \n",
       "famsup     0.064417  1.000000   0.145228 -0.020436  0.024353  0.103581  \n",
       "studytime -0.058225  0.145228   1.000000  0.039731 -0.062700  0.059422  \n",
       "famrel    -0.069204 -0.020436   0.039731  1.000000 -0.044354  0.032768  \n",
       "absences  -0.024964  0.024353  -0.062700 -0.044354  1.000000  0.101701  \n",
       "internet  -0.030037  0.103581   0.059422  0.032768  0.101701  1.000000  "
      ],
      "text/html": "<div>\n<style scoped>\n    .dataframe tbody tr th:only-of-type {\n        vertical-align: middle;\n    }\n\n    .dataframe tbody tr th {\n        vertical-align: top;\n    }\n\n    .dataframe thead th {\n        text-align: right;\n    }\n</style>\n<table border=\"1\" class=\"dataframe\">\n  <thead>\n    <tr style=\"text-align: right;\">\n      <th></th>\n      <th>address</th>\n      <th>famsize</th>\n      <th>Pstatus</th>\n      <th>Medu</th>\n      <th>Fedu</th>\n      <th>Mjob</th>\n      <th>Fjob</th>\n      <th>famsup</th>\n      <th>studytime</th>\n      <th>famrel</th>\n      <th>absences</th>\n      <th>internet</th>\n    </tr>\n  </thead>\n  <tbody>\n    <tr>\n      <th>address</th>\n      <td>1.000000</td>\n      <td>-0.072472</td>\n      <td>0.042572</td>\n      <td>-0.138804</td>\n      <td>-0.072178</td>\n      <td>-0.033030</td>\n      <td>-0.010748</td>\n      <td>-0.023903</td>\n      <td>0.020912</td>\n      <td>-0.014258</td>\n      <td>0.027874</td>\n      <td>-0.216842</td>\n    </tr>\n    <tr>\n      <th>famsize</th>\n      <td>-0.072472</td>\n      <td>1.000000</td>\n      <td>-0.149612</td>\n      <td>-0.043068</td>\n      <td>-0.058879</td>\n      <td>0.067259</td>\n      <td>-0.072183</td>\n      <td>-0.112893</td>\n      <td>-0.073595</td>\n      <td>-0.022776</td>\n      <td>0.035783</td>\n      <td>0.000720</td>\n    </tr>\n    <tr>\n      <th>Pstatus</th>\n      <td>0.042572</td>\n      <td>-0.149612</td>\n      <td>1.000000</td>\n      <td>-0.123565</td>\n      <td>-0.088730</td>\n      <td>0.023927</td>\n      <td>-0.063327</td>\n      <td>0.019067</td>\n      <td>0.024294</td>\n      <td>0.025179</td>\n      <td>-0.134937</td>\n      <td>0.070074</td>\n    </tr>\n    <tr>\n      <th>Medu</th>\n      <td>-0.138804</td>\n      <td>-0.043068</td>\n      <td>-0.123565</td>\n      <td>1.000000</td>\n      <td>0.623455</td>\n      <td>0.454911</td>\n      <td>0.259836</td>\n      <td>0.183727</td>\n      <td>0.064944</td>\n      <td>-0.003914</td>\n      <td>0.100285</td>\n      <td>0.201463</td>\n    </tr>\n    <tr>\n      <th>Fedu</th>\n      <td>-0.072178</td>\n      <td>-0.058879</td>\n      <td>-0.088730</td>\n      <td>0.623455</td>\n      <td>1.000000</td>\n      <td>0.294526</td>\n      <td>0.347203</td>\n      <td>0.185496</td>\n      <td>-0.009175</td>\n      <td>-0.001370</td>\n      <td>0.024473</td>\n      <td>0.127507</td>\n    </tr>\n    <tr>\n      <th>Mjob</th>\n      <td>-0.033030</td>\n      <td>0.067259</td>\n      <td>0.023927</td>\n      <td>0.454911</td>\n      <td>0.294526</td>\n      <td>1.000000</td>\n      <td>0.212309</td>\n      <td>0.065572</td>\n      <td>-0.009009</td>\n      <td>-0.022122</td>\n      <td>0.001688</td>\n      <td>0.128292</td>\n    </tr>\n    <tr>\n      <th>Fjob</th>\n      <td>-0.010748</td>\n      <td>-0.072183</td>\n      <td>-0.063327</td>\n      <td>0.259836</td>\n      <td>0.347203</td>\n      <td>0.212309</td>\n      <td>1.000000</td>\n      <td>0.064417</td>\n      <td>-0.058225</td>\n      <td>-0.069204</td>\n      <td>-0.024964</td>\n      <td>-0.030037</td>\n    </tr>\n    <tr>\n      <th>famsup</th>\n      <td>-0.023903</td>\n      <td>-0.112893</td>\n      <td>0.019067</td>\n      <td>0.183727</td>\n      <td>0.185496</td>\n      <td>0.065572</td>\n      <td>0.064417</td>\n      <td>1.000000</td>\n      <td>0.145228</td>\n      <td>-0.020436</td>\n      <td>0.024353</td>\n      <td>0.103581</td>\n    </tr>\n    <tr>\n      <th>studytime</th>\n      <td>0.020912</td>\n      <td>-0.073595</td>\n      <td>0.024294</td>\n      <td>0.064944</td>\n      <td>-0.009175</td>\n      <td>-0.009009</td>\n      <td>-0.058225</td>\n      <td>0.145228</td>\n      <td>1.000000</td>\n      <td>0.039731</td>\n      <td>-0.062700</td>\n      <td>0.059422</td>\n    </tr>\n    <tr>\n      <th>famrel</th>\n      <td>-0.014258</td>\n      <td>-0.022776</td>\n      <td>0.025179</td>\n      <td>-0.003914</td>\n      <td>-0.001370</td>\n      <td>-0.022122</td>\n      <td>-0.069204</td>\n      <td>-0.020436</td>\n      <td>0.039731</td>\n      <td>1.000000</td>\n      <td>-0.044354</td>\n      <td>0.032768</td>\n    </tr>\n    <tr>\n      <th>absences</th>\n      <td>0.027874</td>\n      <td>0.035783</td>\n      <td>-0.134937</td>\n      <td>0.100285</td>\n      <td>0.024473</td>\n      <td>0.001688</td>\n      <td>-0.024964</td>\n      <td>0.024353</td>\n      <td>-0.062700</td>\n      <td>-0.044354</td>\n      <td>1.000000</td>\n      <td>0.101701</td>\n    </tr>\n    <tr>\n      <th>internet</th>\n      <td>-0.216842</td>\n      <td>0.000720</td>\n      <td>0.070074</td>\n      <td>0.201463</td>\n      <td>0.127507</td>\n      <td>0.128292</td>\n      <td>-0.030037</td>\n      <td>0.103581</td>\n      <td>0.059422</td>\n      <td>0.032768</td>\n      <td>0.101701</td>\n      <td>1.000000</td>\n    </tr>\n  </tbody>\n</table>\n</div>"
     },
     "metadata": {},
     "execution_count": 9
    }
   ],
   "source": [
    "mat.corr()"
   ]
  },
  {
   "cell_type": "markdown",
   "metadata": {},
   "source": [
    "Legenda:\n",
    "\n",
    "- address: U = 0, R = 1;\n",
    "- famsize: GT3 = 0, LE3 = 1;\n",
    "- Pstatus: A = 0, T = 1;\n",
    "- Medu: já está na forma numérica;\n",
    "- Fedu: já está na forma numérica;\n",
    "- Mjob: at_home = 0, health = 1, services = 2, teacher = 3, other = 4;\n",
    "- Fjob:  at_home = 0, health = 1, services = 2, teacher = 3, other = 4;\n",
    "- famsup: no = 0, yes = 1;\n",
    "- studytime: já está na forma numérica;\n",
    "- famreal: já está na forma numérica;\n",
    "- absences: já está na forma numérica;\n",
    "- G1, G2 e G3: já está na forma numérica;\n",
    "- internet: no = 0, yes = 1;"
   ]
  },
  {
   "cell_type": "code",
   "execution_count": 10,
   "metadata": {},
   "outputs": [],
   "source": [
    "mat.to_csv('clean_db.csv')"
   ]
  }
 ],
 "metadata": {
  "kernelspec": {
   "name": "python390jvsc74a57bd0d1ec9569468ba31803cd4d4826401972858a08fd18dade65c2ce339ee0def777",
   "display_name": "Python 3.9.0 64-bit"
  },
  "language_info": {
   "codemirror_mode": {
    "name": "ipython",
    "version": 3
   },
   "file_extension": ".py",
   "mimetype": "text/x-python",
   "name": "python",
   "nbconvert_exporter": "python",
   "pygments_lexer": "ipython3",
   "version": "3.9.0"
  },
  "metadata": {
   "interpreter": {
    "hash": "d1ec9569468ba31803cd4d4826401972858a08fd18dade65c2ce339ee0def777"
   }
  }
 },
 "nbformat": 4,
 "nbformat_minor": 4
}