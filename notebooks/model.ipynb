{
 "metadata": {
  "language_info": {
   "codemirror_mode": {
    "name": "ipython",
    "version": 3
   },
   "file_extension": ".py",
   "mimetype": "text/x-python",
   "name": "python",
   "nbconvert_exporter": "python",
   "pygments_lexer": "ipython3",
   "version": "3.9.0"
  },
  "orig_nbformat": 2,
  "kernelspec": {
   "name": "python390jvsc74a57bd0d1ec9569468ba31803cd4d4826401972858a08fd18dade65c2ce339ee0def777",
   "display_name": "Python 3.9.0 64-bit"
  },
  "metadata": {
   "interpreter": {
    "hash": "d1ec9569468ba31803cd4d4826401972858a08fd18dade65c2ce339ee0def777"
   }
  }
 },
 "nbformat": 4,
 "nbformat_minor": 2,
 "cells": [
  {
   "cell_type": "code",
   "execution_count": 1,
   "metadata": {},
   "outputs": [],
   "source": [
    "import pandas as pd\n",
    "from sklearn.model_selection import train_test_split\n",
    "from sklearn.naive_bayes import GaussianNB\n",
    "from sklearn.metrics import accuracy_score\n",
    "from sklearn.model_selection import KFold \n",
    "from sklearn.model_selection import cross_val_score\n",
    "# evaluate a logistic regression model using k-fold cross-validation\n",
    "from numpy import mean\n",
    "from numpy import std"
   ]
  },
  {
   "cell_type": "code",
   "execution_count": 2,
   "metadata": {},
   "outputs": [],
   "source": [
    "MAT_DIR = './clean_db.csv'\n",
    "df = pd.read_csv(MAT_DIR, sep=',')"
   ]
  },
  {
   "cell_type": "code",
   "execution_count": 3,
   "metadata": {},
   "outputs": [
    {
     "output_type": "execute_result",
     "data": {
      "text/plain": [
       "     Unnamed: 0  address  famsize  Pstatus  Medu  Fedu  Mjob  Fjob  famsup  \\\n",
       "0             0        0        0        0     4     4     0     1       0   \n",
       "1             1        0        0        1     1     1     0     0       1   \n",
       "2             2        0        1        1     1     1     0     0       0   \n",
       "3             3        0        0        1     4     2     0     0       1   \n",
       "4             4        0        0        1     3     3     0     0       1   \n",
       "..          ...      ...      ...      ...   ...   ...   ...   ...     ...   \n",
       "390         390        0        1        0     2     2     0     0       1   \n",
       "391         391        0        1        1     3     1     0     0       0   \n",
       "392         392        1        0        1     1     1     0     0       0   \n",
       "393         393        1        1        1     3     2     0     0       0   \n",
       "394         394        0        1        1     1     1     0     0       0   \n",
       "\n",
       "     studytime  famrel  absences  internet  G1  G2  G3  \n",
       "0            2       4         6         0   0   1   1  \n",
       "1            2       5         4         1   0   0   1  \n",
       "2            2       4        10         1   1   1   1  \n",
       "3            3       3         2         1   2   2   2  \n",
       "4            2       4         4         0   1   1   1  \n",
       "..         ...     ...       ...       ...  ..  ..  ..  \n",
       "390          2       5        11         0   1   1   1  \n",
       "391          1       2         3         1   2   3   3  \n",
       "392          1       5         3         0   1   1   1  \n",
       "393          1       4         0         1   2   2   1  \n",
       "394          1       3         5         1   1   1   1  \n",
       "\n",
       "[395 rows x 16 columns]"
      ],
      "text/html": "<div>\n<style scoped>\n    .dataframe tbody tr th:only-of-type {\n        vertical-align: middle;\n    }\n\n    .dataframe tbody tr th {\n        vertical-align: top;\n    }\n\n    .dataframe thead th {\n        text-align: right;\n    }\n</style>\n<table border=\"1\" class=\"dataframe\">\n  <thead>\n    <tr style=\"text-align: right;\">\n      <th></th>\n      <th>Unnamed: 0</th>\n      <th>address</th>\n      <th>famsize</th>\n      <th>Pstatus</th>\n      <th>Medu</th>\n      <th>Fedu</th>\n      <th>Mjob</th>\n      <th>Fjob</th>\n      <th>famsup</th>\n      <th>studytime</th>\n      <th>famrel</th>\n      <th>absences</th>\n      <th>internet</th>\n      <th>G1</th>\n      <th>G2</th>\n      <th>G3</th>\n    </tr>\n  </thead>\n  <tbody>\n    <tr>\n      <th>0</th>\n      <td>0</td>\n      <td>0</td>\n      <td>0</td>\n      <td>0</td>\n      <td>4</td>\n      <td>4</td>\n      <td>0</td>\n      <td>1</td>\n      <td>0</td>\n      <td>2</td>\n      <td>4</td>\n      <td>6</td>\n      <td>0</td>\n      <td>0</td>\n      <td>1</td>\n      <td>1</td>\n    </tr>\n    <tr>\n      <th>1</th>\n      <td>1</td>\n      <td>0</td>\n      <td>0</td>\n      <td>1</td>\n      <td>1</td>\n      <td>1</td>\n      <td>0</td>\n      <td>0</td>\n      <td>1</td>\n      <td>2</td>\n      <td>5</td>\n      <td>4</td>\n      <td>1</td>\n      <td>0</td>\n      <td>0</td>\n      <td>1</td>\n    </tr>\n    <tr>\n      <th>2</th>\n      <td>2</td>\n      <td>0</td>\n      <td>1</td>\n      <td>1</td>\n      <td>1</td>\n      <td>1</td>\n      <td>0</td>\n      <td>0</td>\n      <td>0</td>\n      <td>2</td>\n      <td>4</td>\n      <td>10</td>\n      <td>1</td>\n      <td>1</td>\n      <td>1</td>\n      <td>1</td>\n    </tr>\n    <tr>\n      <th>3</th>\n      <td>3</td>\n      <td>0</td>\n      <td>0</td>\n      <td>1</td>\n      <td>4</td>\n      <td>2</td>\n      <td>0</td>\n      <td>0</td>\n      <td>1</td>\n      <td>3</td>\n      <td>3</td>\n      <td>2</td>\n      <td>1</td>\n      <td>2</td>\n      <td>2</td>\n      <td>2</td>\n    </tr>\n    <tr>\n      <th>4</th>\n      <td>4</td>\n      <td>0</td>\n      <td>0</td>\n      <td>1</td>\n      <td>3</td>\n      <td>3</td>\n      <td>0</td>\n      <td>0</td>\n      <td>1</td>\n      <td>2</td>\n      <td>4</td>\n      <td>4</td>\n      <td>0</td>\n      <td>1</td>\n      <td>1</td>\n      <td>1</td>\n    </tr>\n    <tr>\n      <th>...</th>\n      <td>...</td>\n      <td>...</td>\n      <td>...</td>\n      <td>...</td>\n      <td>...</td>\n      <td>...</td>\n      <td>...</td>\n      <td>...</td>\n      <td>...</td>\n      <td>...</td>\n      <td>...</td>\n      <td>...</td>\n      <td>...</td>\n      <td>...</td>\n      <td>...</td>\n      <td>...</td>\n    </tr>\n    <tr>\n      <th>390</th>\n      <td>390</td>\n      <td>0</td>\n      <td>1</td>\n      <td>0</td>\n      <td>2</td>\n      <td>2</td>\n      <td>0</td>\n      <td>0</td>\n      <td>1</td>\n      <td>2</td>\n      <td>5</td>\n      <td>11</td>\n      <td>0</td>\n      <td>1</td>\n      <td>1</td>\n      <td>1</td>\n    </tr>\n    <tr>\n      <th>391</th>\n      <td>391</td>\n      <td>0</td>\n      <td>1</td>\n      <td>1</td>\n      <td>3</td>\n      <td>1</td>\n      <td>0</td>\n      <td>0</td>\n      <td>0</td>\n      <td>1</td>\n      <td>2</td>\n      <td>3</td>\n      <td>1</td>\n      <td>2</td>\n      <td>3</td>\n      <td>3</td>\n    </tr>\n    <tr>\n      <th>392</th>\n      <td>392</td>\n      <td>1</td>\n      <td>0</td>\n      <td>1</td>\n      <td>1</td>\n      <td>1</td>\n      <td>0</td>\n      <td>0</td>\n      <td>0</td>\n      <td>1</td>\n      <td>5</td>\n      <td>3</td>\n      <td>0</td>\n      <td>1</td>\n      <td>1</td>\n      <td>1</td>\n    </tr>\n    <tr>\n      <th>393</th>\n      <td>393</td>\n      <td>1</td>\n      <td>1</td>\n      <td>1</td>\n      <td>3</td>\n      <td>2</td>\n      <td>0</td>\n      <td>0</td>\n      <td>0</td>\n      <td>1</td>\n      <td>4</td>\n      <td>0</td>\n      <td>1</td>\n      <td>2</td>\n      <td>2</td>\n      <td>1</td>\n    </tr>\n    <tr>\n      <th>394</th>\n      <td>394</td>\n      <td>0</td>\n      <td>1</td>\n      <td>1</td>\n      <td>1</td>\n      <td>1</td>\n      <td>0</td>\n      <td>0</td>\n      <td>0</td>\n      <td>1</td>\n      <td>3</td>\n      <td>5</td>\n      <td>1</td>\n      <td>1</td>\n      <td>1</td>\n      <td>1</td>\n    </tr>\n  </tbody>\n</table>\n<p>395 rows × 16 columns</p>\n</div>"
     },
     "metadata": {},
     "execution_count": 3
    }
   ],
   "source": [
    "df"
   ]
  },
  {
   "cell_type": "code",
   "execution_count": 4,
   "metadata": {},
   "outputs": [
    {
     "output_type": "execute_result",
     "data": {
      "text/plain": [
       "            Unnamed: 0   address   famsize   Pstatus      Medu      Fedu  \\\n",
       "Unnamed: 0    1.000000  0.224469  0.016317  0.064132 -0.160788 -0.123062   \n",
       "address       0.224469  1.000000 -0.072472  0.042572 -0.138804 -0.072178   \n",
       "famsize       0.016317 -0.072472  1.000000 -0.149612 -0.043068 -0.058879   \n",
       "Pstatus       0.064132  0.042572 -0.149612  1.000000 -0.123565 -0.088730   \n",
       "Medu         -0.160788 -0.138804 -0.043068 -0.123565  1.000000  0.623455   \n",
       "Fedu         -0.123062 -0.072178 -0.058879 -0.088730  0.623455  1.000000   \n",
       "Mjob         -0.006022 -0.033030  0.067259  0.023927  0.454911  0.294526   \n",
       "Fjob         -0.077634 -0.010748 -0.072183 -0.063327  0.259836  0.347203   \n",
       "famsup       -0.185588 -0.023903 -0.112893  0.019067  0.183727  0.185496   \n",
       "studytime     0.048421  0.020912 -0.073595  0.024294  0.064944 -0.009175   \n",
       "famrel       -0.016190 -0.014258 -0.022776  0.025179 -0.003914 -0.001370   \n",
       "absences      0.065966  0.027874  0.035783 -0.134937  0.100285  0.024473   \n",
       "internet     -0.050290 -0.216842  0.000720  0.070074  0.201463  0.127507   \n",
       "G1            0.061338 -0.070344  0.075199 -0.020198  0.170044  0.165489   \n",
       "G2           -0.063007 -0.098215  0.083806 -0.072038  0.218669  0.158422   \n",
       "G3           -0.105809 -0.104551  0.077029 -0.079507  0.206651  0.157953   \n",
       "\n",
       "                Mjob      Fjob    famsup  studytime    famrel  absences  \\\n",
       "Unnamed: 0 -0.006022 -0.077634 -0.185588   0.048421 -0.016190  0.065966   \n",
       "address    -0.033030 -0.010748 -0.023903   0.020912 -0.014258  0.027874   \n",
       "famsize     0.067259 -0.072183 -0.112893  -0.073595 -0.022776  0.035783   \n",
       "Pstatus     0.023927 -0.063327  0.019067   0.024294  0.025179 -0.134937   \n",
       "Medu        0.454911  0.259836  0.183727   0.064944 -0.003914  0.100285   \n",
       "Fedu        0.294526  0.347203  0.185496  -0.009175 -0.001370  0.024473   \n",
       "Mjob        1.000000  0.212309  0.065572  -0.009009 -0.022122  0.001688   \n",
       "Fjob        0.212309  1.000000  0.064417  -0.058225 -0.069204 -0.024964   \n",
       "famsup      0.065572  0.064417  1.000000   0.145228 -0.020436  0.024353   \n",
       "studytime  -0.009009 -0.058225  0.145228   1.000000  0.039731 -0.062700   \n",
       "famrel     -0.022122 -0.069204 -0.020436   0.039731  1.000000 -0.044354   \n",
       "absences    0.001688 -0.024964  0.024353  -0.062700 -0.044354  1.000000   \n",
       "internet    0.128292 -0.030037  0.103581   0.059422  0.032768  0.101701   \n",
       "G1          0.047195  0.163136 -0.098737   0.114695 -0.003887 -0.034170   \n",
       "G2          0.043885  0.139701 -0.040300   0.119371 -0.039439 -0.040821   \n",
       "G3          0.044866  0.130110 -0.021155   0.108751  0.031782  0.005778   \n",
       "\n",
       "            internet        G1        G2        G3  \n",
       "Unnamed: 0 -0.050290  0.061338 -0.063007 -0.105809  \n",
       "address    -0.216842 -0.070344 -0.098215 -0.104551  \n",
       "famsize     0.000720  0.075199  0.083806  0.077029  \n",
       "Pstatus     0.070074 -0.020198 -0.072038 -0.079507  \n",
       "Medu        0.201463  0.170044  0.218669  0.206651  \n",
       "Fedu        0.127507  0.165489  0.158422  0.157953  \n",
       "Mjob        0.128292  0.047195  0.043885  0.044866  \n",
       "Fjob       -0.030037  0.163136  0.139701  0.130110  \n",
       "famsup      0.103581 -0.098737 -0.040300 -0.021155  \n",
       "studytime   0.059422  0.114695  0.119371  0.108751  \n",
       "famrel      0.032768 -0.003887 -0.039439  0.031782  \n",
       "absences    0.101701 -0.034170 -0.040821  0.005778  \n",
       "internet    1.000000  0.068497  0.095726  0.097711  \n",
       "G1          0.068497  1.000000  0.793121  0.759866  \n",
       "G2          0.095726  0.793121  1.000000  0.874494  \n",
       "G3          0.097711  0.759866  0.874494  1.000000  "
      ],
      "text/html": "<div>\n<style scoped>\n    .dataframe tbody tr th:only-of-type {\n        vertical-align: middle;\n    }\n\n    .dataframe tbody tr th {\n        vertical-align: top;\n    }\n\n    .dataframe thead th {\n        text-align: right;\n    }\n</style>\n<table border=\"1\" class=\"dataframe\">\n  <thead>\n    <tr style=\"text-align: right;\">\n      <th></th>\n      <th>Unnamed: 0</th>\n      <th>address</th>\n      <th>famsize</th>\n      <th>Pstatus</th>\n      <th>Medu</th>\n      <th>Fedu</th>\n      <th>Mjob</th>\n      <th>Fjob</th>\n      <th>famsup</th>\n      <th>studytime</th>\n      <th>famrel</th>\n      <th>absences</th>\n      <th>internet</th>\n      <th>G1</th>\n      <th>G2</th>\n      <th>G3</th>\n    </tr>\n  </thead>\n  <tbody>\n    <tr>\n      <th>Unnamed: 0</th>\n      <td>1.000000</td>\n      <td>0.224469</td>\n      <td>0.016317</td>\n      <td>0.064132</td>\n      <td>-0.160788</td>\n      <td>-0.123062</td>\n      <td>-0.006022</td>\n      <td>-0.077634</td>\n      <td>-0.185588</td>\n      <td>0.048421</td>\n      <td>-0.016190</td>\n      <td>0.065966</td>\n      <td>-0.050290</td>\n      <td>0.061338</td>\n      <td>-0.063007</td>\n      <td>-0.105809</td>\n    </tr>\n    <tr>\n      <th>address</th>\n      <td>0.224469</td>\n      <td>1.000000</td>\n      <td>-0.072472</td>\n      <td>0.042572</td>\n      <td>-0.138804</td>\n      <td>-0.072178</td>\n      <td>-0.033030</td>\n      <td>-0.010748</td>\n      <td>-0.023903</td>\n      <td>0.020912</td>\n      <td>-0.014258</td>\n      <td>0.027874</td>\n      <td>-0.216842</td>\n      <td>-0.070344</td>\n      <td>-0.098215</td>\n      <td>-0.104551</td>\n    </tr>\n    <tr>\n      <th>famsize</th>\n      <td>0.016317</td>\n      <td>-0.072472</td>\n      <td>1.000000</td>\n      <td>-0.149612</td>\n      <td>-0.043068</td>\n      <td>-0.058879</td>\n      <td>0.067259</td>\n      <td>-0.072183</td>\n      <td>-0.112893</td>\n      <td>-0.073595</td>\n      <td>-0.022776</td>\n      <td>0.035783</td>\n      <td>0.000720</td>\n      <td>0.075199</td>\n      <td>0.083806</td>\n      <td>0.077029</td>\n    </tr>\n    <tr>\n      <th>Pstatus</th>\n      <td>0.064132</td>\n      <td>0.042572</td>\n      <td>-0.149612</td>\n      <td>1.000000</td>\n      <td>-0.123565</td>\n      <td>-0.088730</td>\n      <td>0.023927</td>\n      <td>-0.063327</td>\n      <td>0.019067</td>\n      <td>0.024294</td>\n      <td>0.025179</td>\n      <td>-0.134937</td>\n      <td>0.070074</td>\n      <td>-0.020198</td>\n      <td>-0.072038</td>\n      <td>-0.079507</td>\n    </tr>\n    <tr>\n      <th>Medu</th>\n      <td>-0.160788</td>\n      <td>-0.138804</td>\n      <td>-0.043068</td>\n      <td>-0.123565</td>\n      <td>1.000000</td>\n      <td>0.623455</td>\n      <td>0.454911</td>\n      <td>0.259836</td>\n      <td>0.183727</td>\n      <td>0.064944</td>\n      <td>-0.003914</td>\n      <td>0.100285</td>\n      <td>0.201463</td>\n      <td>0.170044</td>\n      <td>0.218669</td>\n      <td>0.206651</td>\n    </tr>\n    <tr>\n      <th>Fedu</th>\n      <td>-0.123062</td>\n      <td>-0.072178</td>\n      <td>-0.058879</td>\n      <td>-0.088730</td>\n      <td>0.623455</td>\n      <td>1.000000</td>\n      <td>0.294526</td>\n      <td>0.347203</td>\n      <td>0.185496</td>\n      <td>-0.009175</td>\n      <td>-0.001370</td>\n      <td>0.024473</td>\n      <td>0.127507</td>\n      <td>0.165489</td>\n      <td>0.158422</td>\n      <td>0.157953</td>\n    </tr>\n    <tr>\n      <th>Mjob</th>\n      <td>-0.006022</td>\n      <td>-0.033030</td>\n      <td>0.067259</td>\n      <td>0.023927</td>\n      <td>0.454911</td>\n      <td>0.294526</td>\n      <td>1.000000</td>\n      <td>0.212309</td>\n      <td>0.065572</td>\n      <td>-0.009009</td>\n      <td>-0.022122</td>\n      <td>0.001688</td>\n      <td>0.128292</td>\n      <td>0.047195</td>\n      <td>0.043885</td>\n      <td>0.044866</td>\n    </tr>\n    <tr>\n      <th>Fjob</th>\n      <td>-0.077634</td>\n      <td>-0.010748</td>\n      <td>-0.072183</td>\n      <td>-0.063327</td>\n      <td>0.259836</td>\n      <td>0.347203</td>\n      <td>0.212309</td>\n      <td>1.000000</td>\n      <td>0.064417</td>\n      <td>-0.058225</td>\n      <td>-0.069204</td>\n      <td>-0.024964</td>\n      <td>-0.030037</td>\n      <td>0.163136</td>\n      <td>0.139701</td>\n      <td>0.130110</td>\n    </tr>\n    <tr>\n      <th>famsup</th>\n      <td>-0.185588</td>\n      <td>-0.023903</td>\n      <td>-0.112893</td>\n      <td>0.019067</td>\n      <td>0.183727</td>\n      <td>0.185496</td>\n      <td>0.065572</td>\n      <td>0.064417</td>\n      <td>1.000000</td>\n      <td>0.145228</td>\n      <td>-0.020436</td>\n      <td>0.024353</td>\n      <td>0.103581</td>\n      <td>-0.098737</td>\n      <td>-0.040300</td>\n      <td>-0.021155</td>\n    </tr>\n    <tr>\n      <th>studytime</th>\n      <td>0.048421</td>\n      <td>0.020912</td>\n      <td>-0.073595</td>\n      <td>0.024294</td>\n      <td>0.064944</td>\n      <td>-0.009175</td>\n      <td>-0.009009</td>\n      <td>-0.058225</td>\n      <td>0.145228</td>\n      <td>1.000000</td>\n      <td>0.039731</td>\n      <td>-0.062700</td>\n      <td>0.059422</td>\n      <td>0.114695</td>\n      <td>0.119371</td>\n      <td>0.108751</td>\n    </tr>\n    <tr>\n      <th>famrel</th>\n      <td>-0.016190</td>\n      <td>-0.014258</td>\n      <td>-0.022776</td>\n      <td>0.025179</td>\n      <td>-0.003914</td>\n      <td>-0.001370</td>\n      <td>-0.022122</td>\n      <td>-0.069204</td>\n      <td>-0.020436</td>\n      <td>0.039731</td>\n      <td>1.000000</td>\n      <td>-0.044354</td>\n      <td>0.032768</td>\n      <td>-0.003887</td>\n      <td>-0.039439</td>\n      <td>0.031782</td>\n    </tr>\n    <tr>\n      <th>absences</th>\n      <td>0.065966</td>\n      <td>0.027874</td>\n      <td>0.035783</td>\n      <td>-0.134937</td>\n      <td>0.100285</td>\n      <td>0.024473</td>\n      <td>0.001688</td>\n      <td>-0.024964</td>\n      <td>0.024353</td>\n      <td>-0.062700</td>\n      <td>-0.044354</td>\n      <td>1.000000</td>\n      <td>0.101701</td>\n      <td>-0.034170</td>\n      <td>-0.040821</td>\n      <td>0.005778</td>\n    </tr>\n    <tr>\n      <th>internet</th>\n      <td>-0.050290</td>\n      <td>-0.216842</td>\n      <td>0.000720</td>\n      <td>0.070074</td>\n      <td>0.201463</td>\n      <td>0.127507</td>\n      <td>0.128292</td>\n      <td>-0.030037</td>\n      <td>0.103581</td>\n      <td>0.059422</td>\n      <td>0.032768</td>\n      <td>0.101701</td>\n      <td>1.000000</td>\n      <td>0.068497</td>\n      <td>0.095726</td>\n      <td>0.097711</td>\n    </tr>\n    <tr>\n      <th>G1</th>\n      <td>0.061338</td>\n      <td>-0.070344</td>\n      <td>0.075199</td>\n      <td>-0.020198</td>\n      <td>0.170044</td>\n      <td>0.165489</td>\n      <td>0.047195</td>\n      <td>0.163136</td>\n      <td>-0.098737</td>\n      <td>0.114695</td>\n      <td>-0.003887</td>\n      <td>-0.034170</td>\n      <td>0.068497</td>\n      <td>1.000000</td>\n      <td>0.793121</td>\n      <td>0.759866</td>\n    </tr>\n    <tr>\n      <th>G2</th>\n      <td>-0.063007</td>\n      <td>-0.098215</td>\n      <td>0.083806</td>\n      <td>-0.072038</td>\n      <td>0.218669</td>\n      <td>0.158422</td>\n      <td>0.043885</td>\n      <td>0.139701</td>\n      <td>-0.040300</td>\n      <td>0.119371</td>\n      <td>-0.039439</td>\n      <td>-0.040821</td>\n      <td>0.095726</td>\n      <td>0.793121</td>\n      <td>1.000000</td>\n      <td>0.874494</td>\n    </tr>\n    <tr>\n      <th>G3</th>\n      <td>-0.105809</td>\n      <td>-0.104551</td>\n      <td>0.077029</td>\n      <td>-0.079507</td>\n      <td>0.206651</td>\n      <td>0.157953</td>\n      <td>0.044866</td>\n      <td>0.130110</td>\n      <td>-0.021155</td>\n      <td>0.108751</td>\n      <td>0.031782</td>\n      <td>0.005778</td>\n      <td>0.097711</td>\n      <td>0.759866</td>\n      <td>0.874494</td>\n      <td>1.000000</td>\n    </tr>\n  </tbody>\n</table>\n</div>"
     },
     "metadata": {},
     "execution_count": 4
    }
   ],
   "source": [
    "df.corr()"
   ]
  },
  {
   "source": [
    "Criando um modelo para com os parâmetros selecionados"
   ],
   "cell_type": "markdown",
   "metadata": {}
  },
  {
   "cell_type": "code",
   "execution_count": 5,
   "metadata": {},
   "outputs": [],
   "source": [
    "X = df[['address', 'famsize', 'Pstatus', 'Medu', 'Fedu', 'Mjob', 'Fjob', 'famsup', 'studytime', 'famrel', 'absences', 'internet']]\n",
    "Y1 = df['G1']\n",
    "Y2 = df['G2']\n",
    "Y3 = df['G3']"
   ]
  },
  {
   "cell_type": "code",
   "execution_count": 6,
   "metadata": {},
   "outputs": [],
   "source": [
    "#X_train, X_test, Y1_train, Y1_test = train_test_split(X, Y1, random_state=42, test_size=0.3)\n",
    "kf = KFold(n_splits=17, random_state=42, shuffle=True)"
   ]
  },
  {
   "cell_type": "code",
   "execution_count": 7,
   "metadata": {},
   "outputs": [],
   "source": [
    "model1 = GaussianNB()\n",
    "model2 = GaussianNB()\n",
    "model3 = GaussianNB()"
   ]
  },
  {
   "cell_type": "code",
   "execution_count": 8,
   "metadata": {},
   "outputs": [
    {
     "output_type": "stream",
     "name": "stdout",
     "text": [
      "Accuracy: 0.117 (0.066)\n"
     ]
    }
   ],
   "source": [
    "scores1 = cross_val_score(model1, X, Y1, scoring='accuracy', cv=kf)\n",
    "print('Accuracy: %.3f (%.3f)' % (mean(scores1), std(scores1)))"
   ]
  },
  {
   "cell_type": "code",
   "execution_count": 9,
   "metadata": {},
   "outputs": [
    {
     "output_type": "stream",
     "name": "stdout",
     "text": [
      "Accuracy: 0.435 (0.104)\n"
     ]
    }
   ],
   "source": [
    "scores2 = cross_val_score(model2, X, Y2, scoring='accuracy', cv=kf)\n",
    "print('Accuracy: %.3f (%.3f)' % (mean(scores2), std(scores2)))"
   ]
  },
  {
   "cell_type": "code",
   "execution_count": 10,
   "metadata": {},
   "outputs": [
    {
     "output_type": "stream",
     "name": "stdout",
     "text": [
      "Accuracy: 0.397 (0.095)\n"
     ]
    }
   ],
   "source": [
    "scores3 = cross_val_score(model3, X, Y3, scoring='accuracy', cv=kf)\n",
    "print('Accuracy: %.3f (%.3f)' % (mean(scores3), std(scores3)))"
   ]
  },
  {
   "source": [
    "Removendo as colunas referentes à profissão dos pais."
   ],
   "cell_type": "markdown",
   "metadata": {}
  },
  {
   "cell_type": "code",
   "execution_count": 11,
   "metadata": {},
   "outputs": [],
   "source": [
    "X_new = df[['address', 'famsize', 'Pstatus', 'Medu', 'Fedu', 'famsup', 'studytime', 'famrel', 'absences', 'internet']]"
   ]
  },
  {
   "cell_type": "code",
   "execution_count": 12,
   "metadata": {},
   "outputs": [],
   "source": [
    "model1_new = GaussianNB()\n",
    "model2_new = GaussianNB()\n",
    "model3_new = GaussianNB()"
   ]
  },
  {
   "cell_type": "code",
   "execution_count": 13,
   "metadata": {},
   "outputs": [
    {
     "output_type": "stream",
     "name": "stdout",
     "text": [
      "Accuracy: 0.501 +/- 0.121\n"
     ]
    }
   ],
   "source": [
    "scores1_new = cross_val_score(model1_new, X_new, Y1, scoring='accuracy', cv=kf)\n",
    "print('Accuracy: %.3f +/- %.3f' % (mean(scores1_new), std(scores1_new)))"
   ]
  },
  {
   "cell_type": "code",
   "execution_count": 14,
   "metadata": {},
   "outputs": [
    {
     "output_type": "stream",
     "name": "stdout",
     "text": [
      "Accuracy: 0.431 +/- 0.094\n"
     ]
    }
   ],
   "source": [
    "scores2_new = cross_val_score(model2_new, X_new, Y2, scoring='accuracy', cv=kf)\n",
    "print('Accuracy: %.3f +/- %.3f' % (mean(scores2_new), std(scores2_new)))"
   ]
  },
  {
   "cell_type": "code",
   "execution_count": 15,
   "metadata": {},
   "outputs": [
    {
     "output_type": "stream",
     "name": "stdout",
     "text": [
      "Accuracy: 0.393 +/- 0.109\n"
     ]
    }
   ],
   "source": [
    "scores3_new = cross_val_score(model3_new, X_new, Y3, scoring='accuracy', cv=kf)\n",
    "print('Accuracy: %.3f +/- %.3f' % (mean(scores3_new), std(scores3_new)))"
   ]
  },
  {
   "source": [
    "Removendo as colunas referentes à educação dos pais"
   ],
   "cell_type": "markdown",
   "metadata": {}
  },
  {
   "cell_type": "code",
   "execution_count": 16,
   "metadata": {},
   "outputs": [],
   "source": [
    "X_new2 = df[['address', 'famsize', 'Pstatus', 'famsup', 'studytime', 'famrel', 'absences', 'internet']]\n",
    "model1_new2 = GaussianNB()\n",
    "model2_new2 = GaussianNB()\n",
    "model3_new2 = GaussianNB()"
   ]
  },
  {
   "cell_type": "code",
   "execution_count": 17,
   "metadata": {},
   "outputs": [
    {
     "output_type": "stream",
     "name": "stdout",
     "text": [
      "Accuracy: 0.448 +/- 0.094\n"
     ]
    }
   ],
   "source": [
    "scores1_new2 = cross_val_score(model1_new2, X_new2, Y1, scoring='accuracy', cv=kf)\n",
    "print('Accuracy: %.3f +/- %.3f' % (mean(scores1_new2), std(scores1_new2)))"
   ]
  },
  {
   "cell_type": "code",
   "execution_count": 18,
   "metadata": {},
   "outputs": [
    {
     "output_type": "stream",
     "name": "stdout",
     "text": [
      "Accuracy: 0.419 +/- 0.091\n"
     ]
    }
   ],
   "source": [
    "scores2_new2 = cross_val_score(model2_new2, X_new2, Y2, scoring='accuracy', cv=kf)\n",
    "print('Accuracy: %.3f +/- %.3f' % (mean(scores2_new2), std(scores2_new2)))"
   ]
  },
  {
   "cell_type": "code",
   "execution_count": 19,
   "metadata": {},
   "outputs": [
    {
     "output_type": "stream",
     "name": "stdout",
     "text": [
      "Accuracy: 0.398 +/- 0.104\n"
     ]
    }
   ],
   "source": [
    "scores3_new2 = cross_val_score(model3_new2, X_new2, Y3, scoring='accuracy', cv=kf)\n",
    "print('Accuracy: %.3f +/- %.3f' % (mean(scores3_new2), std(scores3_new2)))"
   ]
  },
  {
   "cell_type": "code",
   "execution_count": 20,
   "metadata": {},
   "outputs": [
    {
     "output_type": "stream",
     "name": "stdout",
     "text": [
      "Accuracy: 0.501 +/- 0.121\nAccuracy: 0.501 +/- 0.121\nAccuracy: 0.448 +/- 0.094\n"
     ]
    }
   ],
   "source": [
    "print('Accuracy normal: %.3f +/- %.3f' % (mean(scores1_new), std(scores1_new)))\n",
    "print('Accuracy s/ profissão: %.3f +/- %.3f' % (mean(scores1_new), std(scores1_new)))\n",
    "print('Accuracy s/ educação: %.3f +/- %.3f' % (mean(scores1_new2), std(scores1_new2)))"
   ]
  },
  {
   "cell_type": "code",
   "execution_count": 21,
   "metadata": {},
   "outputs": [
    {
     "output_type": "stream",
     "name": "stdout",
     "text": [
      "Accuracy normal: 0.117 +/- 0.066\nAccuracy s/ profissão: 0.501 +/- 0.121\nAccuracy s/ educação: 0.448 +/- 0.094\n"
     ]
    }
   ],
   "source": [
    "print('Accuracy normal: %.3f +/- %.3f' % (mean(scores1), std(scores1)))\n",
    "print('Accuracy s/ profissão: %.3f +/- %.3f' % (mean(scores1_new), std(scores1_new)))\n",
    "print('Accuracy s/ educação: %.3f +/- %.3f' % (mean(scores1_new2), std(scores1_new2)))"
   ]
  },
  {
   "cell_type": "code",
   "execution_count": 22,
   "metadata": {},
   "outputs": [
    {
     "output_type": "stream",
     "name": "stdout",
     "text": [
      "Accuracy normal: 0.435 +/- 0.104\nAccuracy s/ profissão: 0.431 +/- 0.094\nAccuracy s/ educação: 0.419 +/- 0.091\n"
     ]
    }
   ],
   "source": [
    "print('Accuracy normal: %.3f +/- %.3f' % (mean(scores2), std(scores2)))\n",
    "print('Accuracy s/ profissão: %.3f +/- %.3f' % (mean(scores2_new), std(scores2_new)))\n",
    "print('Accuracy s/ educação: %.3f +/- %.3f' % (mean(scores2_new2), std(scores2_new2)))"
   ]
  },
  {
   "cell_type": "code",
   "execution_count": 23,
   "metadata": {},
   "outputs": [
    {
     "output_type": "stream",
     "name": "stdout",
     "text": [
      "Accuracy normal: 0.397 +/- 0.095\nAccuracy s/ profissão: 0.393 +/- 0.109\nAccuracy s/ educação: 0.398 +/- 0.104\n"
     ]
    }
   ],
   "source": [
    "print('Accuracy normal: %.3f +/- %.3f' % (mean(scores3), std(scores3)))\n",
    "print('Accuracy s/ profissão: %.3f +/- %.3f' % (mean(scores3_new), std(scores3_new)))\n",
    "print('Accuracy s/ educação: %.3f +/- %.3f' % (mean(scores3_new2), std(scores3_new2)))"
   ]
  },
  {
   "cell_type": "code",
   "execution_count": null,
   "metadata": {},
   "outputs": [],
   "source": []
  }
 ]
}