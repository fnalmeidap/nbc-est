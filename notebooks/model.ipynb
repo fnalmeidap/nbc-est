{
 "metadata": {
  "language_info": {
   "codemirror_mode": {
    "name": "ipython",
    "version": 3
   },
   "file_extension": ".py",
   "mimetype": "text/x-python",
   "name": "python",
   "nbconvert_exporter": "python",
   "pygments_lexer": "ipython3",
   "version": "3.9.0-final"
  },
  "orig_nbformat": 2,
  "kernelspec": {
   "name": "python390jvsc74a57bd0d1ec9569468ba31803cd4d4826401972858a08fd18dade65c2ce339ee0def777",
   "display_name": "Python 3.9.0 64-bit"
  },
  "metadata": {
   "interpreter": {
    "hash": "d1ec9569468ba31803cd4d4826401972858a08fd18dade65c2ce339ee0def777"
   }
  }
 },
 "nbformat": 4,
 "nbformat_minor": 2,
 "cells": [
  {
   "source": [
    "## Importando as bibliotecas"
   ],
   "cell_type": "markdown",
   "metadata": {}
  },
  {
   "cell_type": "code",
   "execution_count": 1,
   "metadata": {},
   "outputs": [],
   "source": [
    "import pandas as pd\n",
    "import numpy as np\n",
    "import matplotlib.pyplot as plt\n",
    "from sklearn.model_selection import train_test_split\n",
    "from sklearn.naive_bayes import GaussianNB\n",
    "from sklearn.metrics import accuracy_score\n",
    "from sklearn.model_selection import KFold \n",
    "from sklearn.model_selection import cross_val_score\n",
    "# evaluate a logistic regression model using k-fold cross-validation\n",
    "from numpy import mean\n",
    "from numpy import std"
   ]
  },
  {
   "source": [
    "## Importando o dataset limpo"
   ],
   "cell_type": "markdown",
   "metadata": {}
  },
  {
   "cell_type": "code",
   "execution_count": 2,
   "metadata": {},
   "outputs": [],
   "source": [
    "MAT_DIR = './clean_db.csv'\n",
    "df = pd.read_csv(MAT_DIR, sep=',')"
   ]
  },
  {
   "cell_type": "code",
   "execution_count": 3,
   "metadata": {},
   "outputs": [
    {
     "output_type": "execute_result",
     "data": {
      "text/plain": [
       "   Unnamed: 0  address  famsize  Pstatus  Medu  Fedu  Mjob  Fjob  famsup  \\\n",
       "0           0        0        0        0     4     4     0     1       0   \n",
       "1           1        0        0        1     1     1     0     0       1   \n",
       "2           2        0        1        1     1     1     0     0       0   \n",
       "3           3        0        0        1     4     2     0     0       1   \n",
       "4           4        0        0        1     3     3     0     0       1   \n",
       "\n",
       "   studytime  famrel  absences  internet  G1  G2  G3  Mean  \n",
       "0          2       4         6         0   0   1   1     1  \n",
       "1          2       5         4         1   0   0   1     1  \n",
       "2          2       4        10         1   1   1   1     1  \n",
       "3          3       3         2         1   2   2   2     2  \n",
       "4          2       4         4         0   1   1   1     1  "
      ],
      "text/html": "<div>\n<style scoped>\n    .dataframe tbody tr th:only-of-type {\n        vertical-align: middle;\n    }\n\n    .dataframe tbody tr th {\n        vertical-align: top;\n    }\n\n    .dataframe thead th {\n        text-align: right;\n    }\n</style>\n<table border=\"1\" class=\"dataframe\">\n  <thead>\n    <tr style=\"text-align: right;\">\n      <th></th>\n      <th>Unnamed: 0</th>\n      <th>address</th>\n      <th>famsize</th>\n      <th>Pstatus</th>\n      <th>Medu</th>\n      <th>Fedu</th>\n      <th>Mjob</th>\n      <th>Fjob</th>\n      <th>famsup</th>\n      <th>studytime</th>\n      <th>famrel</th>\n      <th>absences</th>\n      <th>internet</th>\n      <th>G1</th>\n      <th>G2</th>\n      <th>G3</th>\n      <th>Mean</th>\n    </tr>\n  </thead>\n  <tbody>\n    <tr>\n      <th>0</th>\n      <td>0</td>\n      <td>0</td>\n      <td>0</td>\n      <td>0</td>\n      <td>4</td>\n      <td>4</td>\n      <td>0</td>\n      <td>1</td>\n      <td>0</td>\n      <td>2</td>\n      <td>4</td>\n      <td>6</td>\n      <td>0</td>\n      <td>0</td>\n      <td>1</td>\n      <td>1</td>\n      <td>1</td>\n    </tr>\n    <tr>\n      <th>1</th>\n      <td>1</td>\n      <td>0</td>\n      <td>0</td>\n      <td>1</td>\n      <td>1</td>\n      <td>1</td>\n      <td>0</td>\n      <td>0</td>\n      <td>1</td>\n      <td>2</td>\n      <td>5</td>\n      <td>4</td>\n      <td>1</td>\n      <td>0</td>\n      <td>0</td>\n      <td>1</td>\n      <td>1</td>\n    </tr>\n    <tr>\n      <th>2</th>\n      <td>2</td>\n      <td>0</td>\n      <td>1</td>\n      <td>1</td>\n      <td>1</td>\n      <td>1</td>\n      <td>0</td>\n      <td>0</td>\n      <td>0</td>\n      <td>2</td>\n      <td>4</td>\n      <td>10</td>\n      <td>1</td>\n      <td>1</td>\n      <td>1</td>\n      <td>1</td>\n      <td>1</td>\n    </tr>\n    <tr>\n      <th>3</th>\n      <td>3</td>\n      <td>0</td>\n      <td>0</td>\n      <td>1</td>\n      <td>4</td>\n      <td>2</td>\n      <td>0</td>\n      <td>0</td>\n      <td>1</td>\n      <td>3</td>\n      <td>3</td>\n      <td>2</td>\n      <td>1</td>\n      <td>2</td>\n      <td>2</td>\n      <td>2</td>\n      <td>2</td>\n    </tr>\n    <tr>\n      <th>4</th>\n      <td>4</td>\n      <td>0</td>\n      <td>0</td>\n      <td>1</td>\n      <td>3</td>\n      <td>3</td>\n      <td>0</td>\n      <td>0</td>\n      <td>1</td>\n      <td>2</td>\n      <td>4</td>\n      <td>4</td>\n      <td>0</td>\n      <td>1</td>\n      <td>1</td>\n      <td>1</td>\n      <td>1</td>\n    </tr>\n  </tbody>\n</table>\n</div>"
     },
     "metadata": {},
     "execution_count": 3
    }
   ],
   "source": [
    "df.head()"
   ]
  },
  {
   "cell_type": "code",
   "execution_count": 4,
   "metadata": {},
   "outputs": [],
   "source": [
    "X = df[['address', 'famsize', 'Pstatus', 'Medu', 'Fedu', 'Mjob', 'Fjob', 'famsup', 'studytime', 'famrel', 'absences']]"
   ]
  },
  {
   "cell_type": "code",
   "execution_count": 5,
   "metadata": {},
   "outputs": [
    {
     "output_type": "execute_result",
     "data": {
      "text/plain": [
       "address     -0.070344\n",
       "famsize      0.075199\n",
       "Pstatus     -0.020198\n",
       "Medu         0.170044\n",
       "Fedu         0.165489\n",
       "Mjob         0.047195\n",
       "Fjob         0.163136\n",
       "famsup      -0.098737\n",
       "studytime    0.114695\n",
       "famrel      -0.003887\n",
       "absences    -0.034170\n",
       "dtype: float64"
      ]
     },
     "metadata": {},
     "execution_count": 5
    }
   ],
   "source": [
    "Y1 = df['G1']\n",
    "X.corrwith(Y1, axis=0)"
   ]
  },
  {
   "source": [
    "## Escolhendo o melhor numero de splits para o KFold"
   ],
   "cell_type": "markdown",
   "metadata": {}
  },
  {
   "cell_type": "code",
   "execution_count": 6,
   "metadata": {},
   "outputs": [
    {
     "output_type": "stream",
     "name": "stdout",
     "text": [
      "(0.26315182279649285, 0.055029995385325325)\n2\n"
     ]
    }
   ],
   "source": [
    "scr = []\n",
    "for i in range(2,30):\n",
    "    kf = KFold(n_splits=i, random_state=42, shuffle=True)\n",
    "    model_tmp = GaussianNB()\n",
    "    score_tmp = cross_val_score(model_tmp, X, Y1, scoring='accuracy', cv=kf)\n",
    "    scr.append((mean(score_tmp), std(score_tmp)))\n",
    "print(max(scr))\n",
    "print(scr.index(max(scr))+2)\n",
    "fold_Y1 = scr.index(max(scr))+2"
   ]
  },
  {
   "source": [
    "## Criando um modelo para com os parâmetros selecionados"
   ],
   "cell_type": "markdown",
   "metadata": {}
  },
  {
   "cell_type": "code",
   "execution_count": 7,
   "metadata": {},
   "outputs": [
    {
     "output_type": "stream",
     "name": "stdout",
     "text": [
      "Accuracy: 0.263 (0.055)\n"
     ]
    }
   ],
   "source": [
    "kf_Y1 = KFold(n_splits=fold_Y1, random_state=42, shuffle=True)\n",
    "bayes_Y1 = GaussianNB()\n",
    "score_y1 = cross_val_score(bayes_Y1, X, Y1, scoring='accuracy', cv=kf_Y1)\n",
    "print('Accuracy: %.3f (%.3f)' % (mean(score_y1), std(score_y1)))"
   ]
  },
  {
   "source": [
    "## Fazendo o mesmo para Y2"
   ],
   "cell_type": "markdown",
   "metadata": {}
  },
  {
   "cell_type": "code",
   "execution_count": 8,
   "metadata": {},
   "outputs": [
    {
     "output_type": "execute_result",
     "data": {
      "text/plain": [
       "address     -0.098215\n",
       "famsize      0.083806\n",
       "Pstatus     -0.072038\n",
       "Medu         0.218669\n",
       "Fedu         0.158422\n",
       "Mjob         0.043885\n",
       "Fjob         0.139701\n",
       "famsup      -0.040300\n",
       "studytime    0.119371\n",
       "famrel      -0.039439\n",
       "absences    -0.040821\n",
       "dtype: float64"
      ]
     },
     "metadata": {},
     "execution_count": 8
    }
   ],
   "source": [
    "Y2 = df['G2']\n",
    "X.corrwith(Y2, axis=0)"
   ]
  },
  {
   "cell_type": "code",
   "execution_count": 9,
   "metadata": {},
   "outputs": [
    {
     "output_type": "stream",
     "name": "stdout",
     "text": [
      "(0.4406850459482038, 0.11033579790127106)\n21\n"
     ]
    }
   ],
   "source": [
    "scr = []\n",
    "for i in range(2,30):\n",
    "    kf = KFold(n_splits=i, random_state=42, shuffle=True)\n",
    "    model_tmp = GaussianNB()\n",
    "    score_tmp = cross_val_score(model_tmp, X, Y2, scoring='accuracy', cv=kf)\n",
    "    scr.append((mean(score_tmp), std(score_tmp)))\n",
    "print(max(scr))\n",
    "print(scr.index(max(scr))+2)\n",
    "fold_Y2 = scr.index(max(scr))+2"
   ]
  },
  {
   "cell_type": "code",
   "execution_count": 10,
   "metadata": {},
   "outputs": [
    {
     "output_type": "stream",
     "name": "stdout",
     "text": [
      "Accuracy: 0.441 (0.110)\n"
     ]
    }
   ],
   "source": [
    "kf_Y2 = KFold(n_splits=fold_Y2, random_state=42, shuffle=True)\n",
    "bayes_Y2 = GaussianNB()\n",
    "score_y2 = cross_val_score(bayes_Y2, X, Y2, scoring='accuracy', cv=kf_Y2)\n",
    "print('Accuracy: %.3f (%.3f)' % (mean(score_y2), std(score_y2)))"
   ]
  },
  {
   "source": [
    "## E para Y3"
   ],
   "cell_type": "markdown",
   "metadata": {}
  },
  {
   "cell_type": "code",
   "execution_count": 11,
   "metadata": {},
   "outputs": [
    {
     "output_type": "execute_result",
     "data": {
      "text/plain": [
       "address     -0.104551\n",
       "famsize      0.077029\n",
       "Pstatus     -0.079507\n",
       "Medu         0.206651\n",
       "Fedu         0.157953\n",
       "Mjob         0.044866\n",
       "Fjob         0.130110\n",
       "famsup      -0.021155\n",
       "studytime    0.108751\n",
       "famrel       0.031782\n",
       "absences     0.005778\n",
       "dtype: float64"
      ]
     },
     "metadata": {},
     "execution_count": 11
    }
   ],
   "source": [
    "Y3 = df['G3']\n",
    "X.corrwith(Y3, axis=0)"
   ]
  },
  {
   "cell_type": "code",
   "execution_count": 12,
   "metadata": {},
   "outputs": [
    {
     "output_type": "stream",
     "name": "stdout",
     "text": [
      "(0.3977667493796526, 0.07012744308854979)\n13\n"
     ]
    }
   ],
   "source": [
    "scr = []\n",
    "for i in range(2,30):\n",
    "    kf = KFold(n_splits=i, random_state=42, shuffle=True)\n",
    "    model_tmp = GaussianNB()\n",
    "    score_tmp = cross_val_score(model_tmp, X, Y3, scoring='accuracy', cv=kf)\n",
    "    scr.append((mean(score_tmp), std(score_tmp)))\n",
    "print(max(scr))\n",
    "print(scr.index(max(scr))+2)\n",
    "fold_Y3 = scr.index(max(scr))+2"
   ]
  },
  {
   "cell_type": "code",
   "execution_count": 13,
   "metadata": {},
   "outputs": [
    {
     "output_type": "stream",
     "name": "stdout",
     "text": [
      "Accuracy: 0.398 (0.070)\n"
     ]
    }
   ],
   "source": [
    "kf_Y3 = KFold(n_splits=fold_Y3, random_state=42, shuffle=True)\n",
    "bayes_Y3 = GaussianNB()\n",
    "score_y3 = cross_val_score(bayes_Y3, X, Y3, scoring='accuracy', cv=kf_Y3)\n",
    "print('Accuracy: %.3f (%.3f)' % (mean(score_y3), std(score_y3)))"
   ]
  },
  {
   "source": [
    "## E, finalmente, Y médio"
   ],
   "cell_type": "markdown",
   "metadata": {}
  },
  {
   "cell_type": "code",
   "execution_count": 14,
   "metadata": {},
   "outputs": [
    {
     "output_type": "execute_result",
     "data": {
      "text/plain": [
       "address     -0.091153\n",
       "famsize      0.082624\n",
       "Pstatus     -0.071170\n",
       "Medu         0.231293\n",
       "Fedu         0.180191\n",
       "Mjob         0.079075\n",
       "Fjob         0.145241\n",
       "famsup      -0.063743\n",
       "studytime    0.124417\n",
       "famrel      -0.010751\n",
       "absences     0.000731\n",
       "dtype: float64"
      ]
     },
     "metadata": {},
     "execution_count": 14
    }
   ],
   "source": [
    "Y_mean = df['Mean']\n",
    "X.corrwith(Y_mean, axis=0)"
   ]
  },
  {
   "cell_type": "code",
   "execution_count": 15,
   "metadata": {},
   "outputs": [
    {
     "output_type": "stream",
     "name": "stdout",
     "text": [
      "(0.4151412603189253, 0.01920217402450905)\n2\n"
     ]
    }
   ],
   "source": [
    "scr = []\n",
    "for i in range(2,30):\n",
    "    kf = KFold(n_splits=i, random_state=42, shuffle=True)\n",
    "    model_tmp = GaussianNB()\n",
    "    score_tmp = cross_val_score(model_tmp, X, Y_mean, scoring='accuracy', cv=kf)\n",
    "    scr.append((mean(score_tmp), std(score_tmp)))\n",
    "print(max(scr))\n",
    "print(scr.index(max(scr))+2)\n",
    "fold_Y_mean = scr.index(max(scr))+2"
   ]
  },
  {
   "cell_type": "code",
   "execution_count": 16,
   "metadata": {},
   "outputs": [
    {
     "output_type": "stream",
     "name": "stdout",
     "text": [
      "Accuracy: 0.415 (0.019)\n"
     ]
    }
   ],
   "source": [
    "kf_Y_mean = KFold(n_splits=fold_Y_mean, random_state=42, shuffle=True)\n",
    "bayes_Y_mean = GaussianNB()\n",
    "score_Y_mean = cross_val_score(bayes_Y_mean, X, Y_mean, scoring='accuracy', cv=kf_Y_mean)\n",
    "print('Accuracy: %.3f (%.3f)' % (mean(score_Y_mean), std(score_Y_mean)))"
   ]
  },
  {
   "source": [
    "## Removendo as colunas referentes à profissão dos pais."
   ],
   "cell_type": "markdown",
   "metadata": {}
  },
  {
   "cell_type": "code",
   "execution_count": 17,
   "metadata": {},
   "outputs": [],
   "source": [
    "X_2 = df[['address', 'famsize', 'Pstatus', 'Medu', 'Fedu', 'famsup', 'studytime', 'famrel', 'absences']]"
   ]
  },
  {
   "source": [
    "## Para Y1"
   ],
   "cell_type": "markdown",
   "metadata": {}
  },
  {
   "cell_type": "code",
   "execution_count": 18,
   "metadata": {},
   "outputs": [
    {
     "output_type": "execute_result",
     "data": {
      "text/plain": [
       "address     -0.070344\n",
       "famsize      0.075199\n",
       "Pstatus     -0.020198\n",
       "Medu         0.170044\n",
       "Fedu         0.165489\n",
       "famsup      -0.098737\n",
       "studytime    0.114695\n",
       "famrel      -0.003887\n",
       "absences    -0.034170\n",
       "dtype: float64"
      ]
     },
     "metadata": {},
     "execution_count": 18
    }
   ],
   "source": [
    "X_2.corrwith(Y1, axis=0)"
   ]
  },
  {
   "cell_type": "code",
   "execution_count": 19,
   "metadata": {},
   "outputs": [
    {
     "output_type": "stream",
     "name": "stdout",
     "text": [
      "(0.4934640522875818, 0.08959472997711634)\n22\n"
     ]
    }
   ],
   "source": [
    "scr = []\n",
    "for i in range(2,30):\n",
    "    kf = KFold(n_splits=i, random_state=42, shuffle=True)\n",
    "    model_tmp = GaussianNB()\n",
    "    score_tmp = cross_val_score(model_tmp, X_2, Y1, scoring='accuracy', cv=kf)\n",
    "    scr.append((mean(score_tmp), std(score_tmp)))\n",
    "print(max(scr))\n",
    "print(scr.index(max(scr))+2)\n",
    "fold_Y1_2 = scr.index(max(scr))+2"
   ]
  },
  {
   "cell_type": "code",
   "execution_count": 20,
   "metadata": {},
   "outputs": [
    {
     "output_type": "stream",
     "name": "stdout",
     "text": [
      "Accuracy: 0.493 (0.090)\n"
     ]
    }
   ],
   "source": [
    "kf_Y1_2 = KFold(n_splits=fold_Y1_2, random_state=42, shuffle=True)\n",
    "bayes_Y1_2 = GaussianNB()\n",
    "score_y1_2 = cross_val_score(bayes_Y1_2, X_2, Y1, scoring='accuracy', cv=kf_Y1_2)\n",
    "print('Accuracy: %.3f (%.3f)' % (mean(score_y1_2), std(score_y1_2)))"
   ]
  },
  {
   "source": [
    "## Y2"
   ],
   "cell_type": "markdown",
   "metadata": {}
  },
  {
   "cell_type": "code",
   "execution_count": 21,
   "metadata": {},
   "outputs": [
    {
     "output_type": "execute_result",
     "data": {
      "text/plain": [
       "address     -0.098215\n",
       "famsize      0.083806\n",
       "Pstatus     -0.072038\n",
       "Medu         0.218669\n",
       "Fedu         0.158422\n",
       "famsup      -0.040300\n",
       "studytime    0.119371\n",
       "famrel      -0.039439\n",
       "absences    -0.040821\n",
       "dtype: float64"
      ]
     },
     "metadata": {},
     "execution_count": 21
    }
   ],
   "source": [
    "X_2.corrwith(Y2, axis=0)"
   ]
  },
  {
   "cell_type": "code",
   "execution_count": 22,
   "metadata": {},
   "outputs": [
    {
     "output_type": "stream",
     "name": "stdout",
     "text": [
      "(0.45880893300248143, 0.05957563226190421)\n13\n"
     ]
    }
   ],
   "source": [
    "scr = []\n",
    "for i in range(2,30):\n",
    "    kf = KFold(n_splits=i, random_state=42, shuffle=True)\n",
    "    model_tmp = GaussianNB()\n",
    "    score_tmp = cross_val_score(model_tmp, X_2, Y2, scoring='accuracy', cv=kf)\n",
    "    scr.append((mean(score_tmp), std(score_tmp)))\n",
    "print(max(scr))\n",
    "print(scr.index(max(scr))+2)\n",
    "fold_Y2_2 = scr.index(max(scr))+2"
   ]
  },
  {
   "cell_type": "code",
   "execution_count": 23,
   "metadata": {},
   "outputs": [
    {
     "output_type": "stream",
     "name": "stdout",
     "text": [
      "Accuracy: 0.459 (0.060)\n"
     ]
    }
   ],
   "source": [
    "kf_Y2_2 = KFold(n_splits=fold_Y2_2, random_state=42, shuffle=True)\n",
    "bayes_Y2_2 = GaussianNB()\n",
    "score_y2_2 = cross_val_score(bayes_Y2_2, X_2, Y2, scoring='accuracy', cv=kf_Y2_2)\n",
    "print('Accuracy: %.3f (%.3f)' % (mean(score_y2_2), std(score_y2_2)))"
   ]
  },
  {
   "source": [
    "## Y3"
   ],
   "cell_type": "markdown",
   "metadata": {}
  },
  {
   "cell_type": "code",
   "execution_count": 24,
   "metadata": {},
   "outputs": [
    {
     "output_type": "execute_result",
     "data": {
      "text/plain": [
       "address     -0.104551\n",
       "famsize      0.077029\n",
       "Pstatus     -0.079507\n",
       "Medu         0.206651\n",
       "Fedu         0.157953\n",
       "famsup      -0.021155\n",
       "studytime    0.108751\n",
       "famrel       0.031782\n",
       "absences     0.005778\n",
       "dtype: float64"
      ]
     },
     "metadata": {},
     "execution_count": 24
    }
   ],
   "source": [
    "X_2.corrwith(Y3, axis=0)"
   ]
  },
  {
   "cell_type": "code",
   "execution_count": 25,
   "metadata": {},
   "outputs": [
    {
     "output_type": "stream",
     "name": "stdout",
     "text": [
      "(0.4126211090496805, 0.023405111454462935)\n4\n"
     ]
    }
   ],
   "source": [
    "scr = []\n",
    "for i in range(2,30):\n",
    "    kf = KFold(n_splits=i, random_state=42, shuffle=True)\n",
    "    model_tmp = GaussianNB()\n",
    "    score_tmp = cross_val_score(model_tmp, X_2, Y3, scoring='accuracy', cv=kf)\n",
    "    scr.append((mean(score_tmp), std(score_tmp)))\n",
    "print(max(scr))\n",
    "print(scr.index(max(scr))+2)\n",
    "fold_Y3_2 = scr.index(max(scr))+2"
   ]
  },
  {
   "cell_type": "code",
   "execution_count": 26,
   "metadata": {},
   "outputs": [
    {
     "output_type": "stream",
     "name": "stdout",
     "text": [
      "Accuracy: 0.413 (0.023)\n"
     ]
    }
   ],
   "source": [
    "kf_Y3_2 = KFold(n_splits=fold_Y3_2, random_state=42, shuffle=True)\n",
    "bayes_Y3_2 = GaussianNB()\n",
    "score_y3_2 = cross_val_score(bayes_Y3_2, X_2, Y3, scoring='accuracy', cv=kf_Y3_2)\n",
    "print('Accuracy: %.3f (%.3f)' % (mean(score_y3_2), std(score_y3_2)))"
   ]
  },
  {
   "source": [
    "## Y médio"
   ],
   "cell_type": "markdown",
   "metadata": {}
  },
  {
   "cell_type": "code",
   "execution_count": 27,
   "metadata": {},
   "outputs": [
    {
     "output_type": "execute_result",
     "data": {
      "text/plain": [
       "address     -0.091153\n",
       "famsize      0.082624\n",
       "Pstatus     -0.071170\n",
       "Medu         0.231293\n",
       "Fedu         0.180191\n",
       "famsup      -0.063743\n",
       "studytime    0.124417\n",
       "famrel      -0.010751\n",
       "absences     0.000731\n",
       "dtype: float64"
      ]
     },
     "metadata": {},
     "execution_count": 27
    }
   ],
   "source": [
    "X_2.corrwith(Y_mean, axis=0)"
   ]
  },
  {
   "cell_type": "code",
   "execution_count": 28,
   "metadata": {},
   "outputs": [
    {
     "output_type": "stream",
     "name": "stdout",
     "text": [
      "(0.41012921089063226, 0.0010383017997231125)\n2\n"
     ]
    }
   ],
   "source": [
    "scr = []\n",
    "for i in range(2,30):\n",
    "    kf = KFold(n_splits=i, random_state=42, shuffle=True)\n",
    "    model_tmp = GaussianNB()\n",
    "    score_tmp = cross_val_score(model_tmp, X_2, Y_mean, scoring='accuracy', cv=kf)\n",
    "    scr.append((mean(score_tmp), std(score_tmp)))\n",
    "print(max(scr))\n",
    "print(scr.index(max(scr))+2)\n",
    "fold_Y_mean_2 = scr.index(max(scr))+2"
   ]
  },
  {
   "cell_type": "code",
   "execution_count": 29,
   "metadata": {},
   "outputs": [
    {
     "output_type": "stream",
     "name": "stdout",
     "text": [
      "Accuracy: 0.410 (0.001)\n"
     ]
    }
   ],
   "source": [
    "kf_Y_mean_2 = KFold(n_splits=fold_Y_mean_2, random_state=42, shuffle=True)\n",
    "bayes_Y_mean_2 = GaussianNB()\n",
    "score_y_mean_2 = cross_val_score(bayes_Y_mean_2, X_2, Y_mean, scoring='accuracy', cv=kf_Y_mean_2)\n",
    "print('Accuracy: %.3f (%.3f)' % (mean(score_y_mean_2), std(score_y_mean_2)))"
   ]
  },
  {
   "source": [
    "## Removendo as colunas referentes à educação dos pais"
   ],
   "cell_type": "markdown",
   "metadata": {}
  },
  {
   "cell_type": "code",
   "execution_count": 30,
   "metadata": {},
   "outputs": [],
   "source": [
    "X_3 = df[['address', 'famsize', 'Pstatus', 'famsup', 'studytime', 'famrel', 'absences', 'Mjob', 'Fjob']]\n"
   ]
  },
  {
   "source": [
    "## Y1"
   ],
   "cell_type": "markdown",
   "metadata": {}
  },
  {
   "cell_type": "code",
   "execution_count": 31,
   "metadata": {},
   "outputs": [
    {
     "output_type": "stream",
     "name": "stdout",
     "text": [
      "(0.22000461467466542, 0.09817720350715274)\n2\nAccuracy: 0.220 (0.098)\n"
     ]
    }
   ],
   "source": [
    "X_3.corrwith(Y1, axis=0)\n",
    "\n",
    "scr = []\n",
    "for i in range(2,30):\n",
    "    kf = KFold(n_splits=i, random_state=42, shuffle=True)\n",
    "    model_tmp = GaussianNB()\n",
    "    score_tmp = cross_val_score(model_tmp, X_3, Y1, scoring='accuracy', cv=kf)\n",
    "    scr.append((mean(score_tmp), std(score_tmp)))\n",
    "\n",
    "print(max(scr))\n",
    "print(scr.index(max(scr))+2)\n",
    "fold_Y1_3 = scr.index(max(scr))+2\n",
    "\n",
    "kf_Y1_3 = KFold(n_splits=fold_Y1_3, random_state=42, shuffle=True)\n",
    "bayes_Y1_3 = GaussianNB()\n",
    "score_y1_3 = cross_val_score(bayes_Y1_3, X_3, Y1, scoring='accuracy', cv=kf_Y1_3)\n",
    "print('Accuracy: %.3f (%.3f)' % (mean(score_y1_3), std(score_y1_3)))"
   ]
  },
  {
   "source": [
    "## Y2"
   ],
   "cell_type": "markdown",
   "metadata": {}
  },
  {
   "cell_type": "code",
   "execution_count": 32,
   "metadata": {},
   "outputs": [
    {
     "output_type": "stream",
     "name": "stdout",
     "text": [
      "(0.41507936507936516, 0.06680138247461605)\n11\nAccuracy: 0.415 (0.067)\n"
     ]
    }
   ],
   "source": [
    "X_3.corrwith(Y2, axis=0)\n",
    "\n",
    "scr = []\n",
    "for i in range(2,30):\n",
    "    kf = KFold(n_splits=i, random_state=42, shuffle=True)\n",
    "    model_tmp = GaussianNB()\n",
    "    score_tmp = cross_val_score(model_tmp, X_3, Y2, scoring='accuracy', cv=kf)\n",
    "    scr.append((mean(score_tmp), std(score_tmp)))\n",
    "\n",
    "print(max(scr))\n",
    "print(scr.index(max(scr))+2)\n",
    "fold_Y2_3 = scr.index(max(scr))+2\n",
    "\n",
    "kf_Y2_3 = KFold(n_splits=fold_Y2_3, random_state=42, shuffle=True)\n",
    "bayes_Y2_3 = GaussianNB()\n",
    "score_y2_3 = cross_val_score(bayes_Y2_3, X_3, Y2, scoring='accuracy', cv=kf_Y2_3)\n",
    "print('Accuracy: %.3f (%.3f)' % (mean(score_y2_3), std(score_y2_3)))"
   ]
  },
  {
   "source": [
    "## Y3"
   ],
   "cell_type": "markdown",
   "metadata": {}
  },
  {
   "cell_type": "code",
   "execution_count": 33,
   "metadata": {},
   "outputs": [
    {
     "output_type": "stream",
     "name": "stdout",
     "text": [
      "(0.4025291275930662, 0.12176133014918526)\n",
      "23\n",
      "Accuracy: 0.403 (0.122)\n"
     ]
    }
   ],
   "source": [
    "X_3.corrwith(Y3, axis=0)\n",
    "\n",
    "scr = []\n",
    "for i in range(2,30):\n",
    "    kf = KFold(n_splits=i, random_state=42, shuffle=True)\n",
    "    model_tmp = GaussianNB()\n",
    "    score_tmp = cross_val_score(model_tmp, X_3, Y3, scoring='accuracy', cv=kf)\n",
    "    scr.append((mean(score_tmp), std(score_tmp)))\n",
    "\n",
    "print(max(scr))\n",
    "print(scr.index(max(scr))+2)\n",
    "fold_Y3_3 = scr.index(max(scr))+2\n",
    "\n",
    "kf_Y3_3 = KFold(n_splits=fold_Y3_3, random_state=42, shuffle=True)\n",
    "bayes_Y3_3 = GaussianNB()\n",
    "score_y3_3 = cross_val_score(bayes_Y3_3, X_3, Y3, scoring='accuracy', cv=kf_Y3_3)\n",
    "print('Accuracy: %.3f (%.3f)' % (mean(score_y3_3), std(score_y3_3)))"
   ]
  },
  {
   "source": [
    "## Y médio"
   ],
   "cell_type": "markdown",
   "metadata": {}
  },
  {
   "cell_type": "code",
   "execution_count": 34,
   "metadata": {},
   "outputs": [
    {
     "output_type": "stream",
     "name": "stdout",
     "text": [
      "(0.3771342870327642, 0.03195662205814492)\n2\nAccuracy: 0.377 (0.032)\n"
     ]
    }
   ],
   "source": [
    "X_3.corrwith(Y_mean, axis=0)\n",
    "\n",
    "scr = []\n",
    "for i in range(2,30):\n",
    "    kf = KFold(n_splits=i, random_state=42, shuffle=True)\n",
    "    model_tmp = GaussianNB()\n",
    "    score_tmp = cross_val_score(model_tmp, X_3, Y_mean, scoring='accuracy', cv=kf)\n",
    "    scr.append((mean(score_tmp), std(score_tmp)))\n",
    "\n",
    "print(max(scr))\n",
    "print(scr.index(max(scr))+2)\n",
    "fold_Y_mean_3 = scr.index(max(scr))+2\n",
    "\n",
    "kf_Y_mean_3 = KFold(n_splits=fold_Y_mean_3, random_state=42, shuffle=True)\n",
    "bayes_Y_mean_3 = GaussianNB()\n",
    "score_y_mean_3 = cross_val_score(bayes_Y_mean_3, X_3, Y_mean, scoring='accuracy', cv=kf_Y_mean_3)\n",
    "print('Accuracy: %.3f (%.3f)' % (mean(score_y_mean_3), std(score_y_mean_3)))"
   ]
  },
  {
   "source": [
    "## Para melhor entender a influência do tempo de estudo, vamos remover apenas o studytime de cada Y."
   ],
   "cell_type": "markdown",
   "metadata": {}
  },
  {
   "cell_type": "code",
   "execution_count": 35,
   "metadata": {},
   "outputs": [],
   "source": [
    "X_4 = df[['address', 'famsize', 'Pstatus', 'Medu', 'Fedu', 'Mjob', 'Fjob', 'famsup', 'famrel', 'absences']]"
   ]
  },
  {
   "source": [
    "## Y1"
   ],
   "cell_type": "markdown",
   "metadata": {}
  },
  {
   "cell_type": "code",
   "execution_count": 36,
   "metadata": {},
   "outputs": [
    {
     "output_type": "stream",
     "name": "stdout",
     "text": [
      "(0.172165820642978, 0.005499153976311344)\n2\nAccuracy: 0.172 (0.005)\n"
     ]
    }
   ],
   "source": [
    "X_4.corrwith(Y1, axis=0)\n",
    "\n",
    "scr = []\n",
    "for i in range(2,30):\n",
    "    kf = KFold(n_splits=i, random_state=42, shuffle=True)\n",
    "    model_tmp = GaussianNB()\n",
    "    score_tmp = cross_val_score(model_tmp, X_4, Y1, scoring='accuracy', cv=kf)\n",
    "    scr.append((mean(score_tmp), std(score_tmp)))\n",
    "\n",
    "print(max(scr))\n",
    "print(scr.index(max(scr))+2)\n",
    "fold_Y1_4 = scr.index(max(scr))+2\n",
    "\n",
    "kf_Y1_4 = KFold(n_splits=fold_Y1_4, random_state=42, shuffle=True)\n",
    "bayes_Y1_4 = GaussianNB()\n",
    "score_y1_4 = cross_val_score(bayes_Y1_4, X_4, Y1, scoring='accuracy', cv=kf_Y1_4)\n",
    "print('Accuracy: %.3f (%.3f)' % (mean(score_y1_4), std(score_y1_4)))"
   ]
  },
  {
   "source": [
    "## Y2"
   ],
   "cell_type": "markdown",
   "metadata": {}
  },
  {
   "cell_type": "code",
   "execution_count": 37,
   "metadata": {},
   "outputs": [
    {
     "output_type": "stream",
     "name": "stdout",
     "text": [
      "(0.43300350443207586, 0.023670798567907287)\n4\nAccuracy: 0.433 (0.024)\n"
     ]
    }
   ],
   "source": [
    "X_4.corrwith(Y2, axis=0)\n",
    "\n",
    "scr = []\n",
    "for i in range(2,30):\n",
    "    kf = KFold(n_splits=i, random_state=42, shuffle=True)\n",
    "    model_tmp = GaussianNB()\n",
    "    score_tmp = cross_val_score(model_tmp, X_4, Y2, scoring='accuracy', cv=kf)\n",
    "    scr.append((mean(score_tmp), std(score_tmp)))\n",
    "\n",
    "print(max(scr))\n",
    "print(scr.index(max(scr))+2)\n",
    "fold_Y2_4 = scr.index(max(scr))+2\n",
    "\n",
    "kf_Y2_4 = KFold(n_splits=fold_Y2_4, random_state=42, shuffle=True)\n",
    "bayes_Y2_4 = GaussianNB()\n",
    "score_y2_4 = cross_val_score(bayes_Y2_4, X_4, Y2, scoring='accuracy', cv=kf_Y2_4)\n",
    "print('Accuracy: %.3f (%.3f)' % (mean(score_y2_4), std(score_y2_4)))"
   ]
  },
  {
   "source": [
    "## Y3"
   ],
   "cell_type": "markdown",
   "metadata": {}
  },
  {
   "cell_type": "code",
   "execution_count": 38,
   "metadata": {},
   "outputs": [
    {
     "output_type": "stream",
     "name": "stdout",
     "text": [
      "(0.3922799422799423, 0.07086040740226275)\n",
      "11\n",
      "Accuracy: 0.392 (0.071)\n"
     ]
    }
   ],
   "source": [
    "X_4.corrwith(Y3, axis=0)\n",
    "\n",
    "scr = []\n",
    "for i in range(2,30):\n",
    "    kf = KFold(n_splits=i, random_state=42, shuffle=True)\n",
    "    model_tmp = GaussianNB()\n",
    "    score_tmp = cross_val_score(model_tmp, X_4, Y3, scoring='accuracy', cv=kf)\n",
    "    scr.append((mean(score_tmp), std(score_tmp)))\n",
    "\n",
    "print(max(scr))\n",
    "print(scr.index(max(scr))+2)\n",
    "fold_Y3_4 = scr.index(max(scr))+2\n",
    "\n",
    "kf_Y3_4 = KFold(n_splits=fold_Y3_4, random_state=42, shuffle=True)\n",
    "bayes_Y3_4 = GaussianNB()\n",
    "score_y3_4 = cross_val_score(bayes_Y3_4, X_4, Y3, scoring='accuracy', cv=kf_Y3_4)\n",
    "print('Accuracy: %.3f (%.3f)' % (mean(score_y3_4), std(score_y3_4)))"
   ]
  },
  {
   "source": [
    "## Y médio"
   ],
   "cell_type": "markdown",
   "metadata": {}
  },
  {
   "cell_type": "code",
   "execution_count": 39,
   "metadata": {},
   "outputs": [
    {
     "output_type": "stream",
     "name": "stdout",
     "text": [
      "(0.41766651284417783, 0.021727426549761564)\n2\nAccuracy: 0.418 (0.022)\n"
     ]
    }
   ],
   "source": [
    "X_4.corrwith(Y_mean, axis=0)\n",
    "\n",
    "scr = []\n",
    "for i in range(2,30):\n",
    "    kf = KFold(n_splits=i, random_state=42, shuffle=True)\n",
    "    model_tmp = GaussianNB()\n",
    "    score_tmp = cross_val_score(model_tmp, X_4, Y_mean, scoring='accuracy', cv=kf)\n",
    "    scr.append((mean(score_tmp), std(score_tmp)))\n",
    "\n",
    "print(max(scr))\n",
    "print(scr.index(max(scr))+2)\n",
    "fold_Y_mean_4 = scr.index(max(scr))+2\n",
    "\n",
    "kf_Y_mean_4 = KFold(n_splits=fold_Y_mean_4, random_state=42, shuffle=True)\n",
    "bayes_Y_mean_4 = GaussianNB()\n",
    "score_y_mean_4 = cross_val_score(bayes_Y_mean_4, X_4, Y_mean, scoring='accuracy', cv=kf_Y_mean_4)\n",
    "print('Accuracy: %.3f (%.3f)' % (mean(score_y_mean_4), std(score_y_mean_4)))"
   ]
  },
  {
   "source": [
    "## Comparando as acurácias"
   ],
   "cell_type": "markdown",
   "metadata": {}
  },
  {
   "source": [
    "## Y1"
   ],
   "cell_type": "markdown",
   "metadata": {}
  },
  {
   "cell_type": "code",
   "execution_count": 52,
   "metadata": {},
   "outputs": [
    {
     "output_type": "stream",
     "name": "stdout",
     "text": [
      "Accuracy normal: 0.263 +/- 0.055\nAccuracy s/ profissão: 0.493 +/- 0.090\nAccuracy s/ educação: 0.220 +/- 0.098\nAccuracy s/ studytime: 0.172 +/- 0.005\n"
     ]
    }
   ],
   "source": [
    "print('Accuracy normal: %.3f +/- %.3f' % (mean(score_y1), std(score_y1)))\n",
    "print('Accuracy s/ profissão: %.3f +/- %.3f' % (mean(score_y1_2), std(score_y1_2)))\n",
    "print('Accuracy s/ educação: %.3f +/- %.3f' % (mean(score_y1_3), std(score_y1_3)))\n",
    "print('Accuracy s/ studytime: %.3f +/- %.3f' % (mean(score_y1_4), std(score_y1_4)))"
   ]
  },
  {
   "source": [
    "## Y2"
   ],
   "cell_type": "markdown",
   "metadata": {}
  },
  {
   "cell_type": "code",
   "execution_count": 53,
   "metadata": {},
   "outputs": [
    {
     "output_type": "stream",
     "name": "stdout",
     "text": [
      "Accuracy normal: 0.441 +/- 0.110\nAccuracy s/ profissão: 0.459 +/- 0.060\nAccuracy s/ educação: 0.415 +/- 0.067\nAccuracy s/ studytime: 0.433 +/- 0.024\n"
     ]
    }
   ],
   "source": [
    "print('Accuracy normal: %.3f +/- %.3f' % (mean(score_y2), std(score_y2)))\n",
    "print('Accuracy s/ profissão: %.3f +/- %.3f' % (mean(score_y2_2), std(score_y2_2)))\n",
    "print('Accuracy s/ educação: %.3f +/- %.3f' % (mean(score_y2_3), std(score_y2_3)))\n",
    "print('Accuracy s/ studytime: %.3f +/- %.3f' % (mean(score_y2_4), std(score_y2_4)))"
   ]
  },
  {
   "source": [
    "## Y3"
   ],
   "cell_type": "markdown",
   "metadata": {}
  },
  {
   "cell_type": "code",
   "execution_count": 54,
   "metadata": {},
   "outputs": [
    {
     "output_type": "stream",
     "name": "stdout",
     "text": [
      "Accuracy normal: 0.398 +/- 0.070\nAccuracy s/ profissão: 0.413 +/- 0.023\nAccuracy s/ educação: 0.403 +/- 0.122\nAccuracy s/ studytime: 0.392 +/- 0.071\n"
     ]
    }
   ],
   "source": [
    "print('Accuracy normal: %.3f +/- %.3f' % (mean(score_y3), std(score_y3)))\n",
    "print('Accuracy s/ profissão: %.3f +/- %.3f' % (mean(score_y3_2), std(score_y3_2)))\n",
    "print('Accuracy s/ educação: %.3f +/- %.3f' % (mean(score_y3_3), std(score_y3_3)))\n",
    "print('Accuracy s/ studytime: %.3f +/- %.3f' % (mean(score_y3_4), std(score_y3_4)))"
   ]
  },
  {
   "source": [
    "## Y médio"
   ],
   "cell_type": "markdown",
   "metadata": {}
  },
  {
   "cell_type": "code",
   "execution_count": 56,
   "metadata": {},
   "outputs": [
    {
     "output_type": "stream",
     "name": "stdout",
     "text": [
      "Accuracy média normal: 0.415 +/- 0.019\nAccuracy média s/ profissão: 0.410 +/- 0.001\nAccuracy média s/ educação: 0.377 +/- 0.032\nAccuracy média s/ studytime: 0.418 +/- 0.022\n"
     ]
    }
   ],
   "source": [
    "print('Accuracy média normal: %.3f +/- %.3f' % (mean(score_Y_mean), std(score_Y_mean)))\n",
    "print('Accuracy média s/ profissão: %.3f +/- %.3f' % (mean(score_y_mean_2), std(score_y_mean_2)))\n",
    "print('Accuracy média s/ educação: %.3f +/- %.3f' % (mean(score_y_mean_3), std(score_y_mean_3)))\n",
    "print('Accuracy média s/ studytime: %.3f +/- %.3f' % (mean(score_y_mean_4), std(score_y_mean_4)))"
   ]
  },
  {
   "source": [
    "## Agora iremos analisar o impacto da profissão dos pais no tempo de estudo "
   ],
   "cell_type": "markdown",
   "metadata": {}
  },
  {
   "cell_type": "code",
   "execution_count": 44,
   "metadata": {},
   "outputs": [],
   "source": [
    "Y_study = df['studytime']"
   ]
  },
  {
   "cell_type": "code",
   "execution_count": 45,
   "metadata": {},
   "outputs": [],
   "source": [
    "X_study = df[['address', 'famsize', 'Pstatus', 'Medu', 'Fedu', 'Mjob', 'Fjob', 'famsup', 'famrel', 'absences']]"
   ]
  },
  {
   "cell_type": "code",
   "execution_count": 46,
   "metadata": {},
   "outputs": [
    {
     "output_type": "stream",
     "name": "stdout",
     "text": [
      "address     0.020912\n",
      "famsize    -0.073595\n",
      "Pstatus     0.024294\n",
      "Medu        0.064944\n",
      "Fedu       -0.009175\n",
      "Mjob       -0.009009\n",
      "Fjob       -0.058225\n",
      "famsup      0.145228\n",
      "famrel      0.039731\n",
      "absences   -0.062700\n",
      "dtype: float64\n",
      "Accuracy: 0.142 (0.025)\n"
     ]
    }
   ],
   "source": [
    "print(X_study.corrwith(Y_study, axis=0))\n",
    "\n",
    "scr = []\n",
    "for i in range(2,30):\n",
    "    kf = KFold(n_splits=i, random_state=42, shuffle=True)\n",
    "    model_tmp = GaussianNB()\n",
    "    score_tmp = cross_val_score(model_tmp, X_study, Y_study, scoring='accuracy', cv=kf)\n",
    "    scr.append((mean(score_tmp), std(score_tmp)))\n",
    "\n",
    "#print(max(scr))\n",
    "#print(scr.index(max(scr))+2)\n",
    "fold_Y_study = scr.index(max(scr))+2\n",
    "\n",
    "kf_Y_study = KFold(n_splits=fold_Y_study, random_state=42, shuffle=True)\n",
    "bayes_Y_study = GaussianNB()\n",
    "score_Y_study = cross_val_score(bayes_Y_study, X_study, Y_study, scoring='accuracy', cv=kf_Y_study)\n",
    "print('Accuracy: %.3f (%.3f)' % (mean(score_Y_study), std(score_Y_study)))"
   ]
  },
  {
   "cell_type": "code",
   "execution_count": 47,
   "metadata": {},
   "outputs": [],
   "source": [
    "X_study_2 = df[['address', 'famsize', 'Pstatus', 'Medu', 'Fedu', 'famsup', 'famrel', 'absences']]"
   ]
  },
  {
   "cell_type": "code",
   "execution_count": 48,
   "metadata": {},
   "outputs": [
    {
     "output_type": "stream",
     "name": "stdout",
     "text": [
      "address     0.020912\n",
      "famsize    -0.073595\n",
      "Pstatus     0.024294\n",
      "Medu        0.064944\n",
      "Fedu       -0.009175\n",
      "famsup      0.145228\n",
      "famrel      0.039731\n",
      "absences   -0.062700\n",
      "dtype: float64\n",
      "Accuracy: 0.405 (0.117)\n"
     ]
    }
   ],
   "source": [
    "print(X_study_2.corrwith(Y_study, axis=0))\n",
    "\n",
    "scr = []\n",
    "for i in range(2,30):\n",
    "    kf = KFold(n_splits=i, random_state=42, shuffle=True)\n",
    "    model_tmp = GaussianNB()\n",
    "    score_tmp = cross_val_score(model_tmp, X_study_2, Y_study, scoring='accuracy', cv=kf)\n",
    "    scr.append((mean(score_tmp), std(score_tmp)))\n",
    "\n",
    "#print(max(scr))\n",
    "#print(scr.index(max(scr))+2)\n",
    "fold_Y_study_2 = scr.index(max(scr))+2\n",
    "\n",
    "kf_Y_study_2 = KFold(n_splits=fold_Y_study_2, random_state=42, shuffle=True)\n",
    "bayes_Y_study_2 = GaussianNB()\n",
    "score_Y_study_2 = cross_val_score(bayes_Y_study_2, X_study_2, Y_study, scoring='accuracy', cv=kf_Y_study_2)\n",
    "print('Accuracy: %.3f (%.3f)' % (mean(score_Y_study_2), std(score_Y_study_2)))"
   ]
  },
  {
   "cell_type": "code",
   "execution_count": 49,
   "metadata": {},
   "outputs": [],
   "source": [
    "X_study_3 = df[['address', 'famsize', 'Pstatus', 'famsup', 'famrel', 'absences', 'Mjob', 'Fjob']]"
   ]
  },
  {
   "cell_type": "code",
   "execution_count": 50,
   "metadata": {},
   "outputs": [
    {
     "output_type": "stream",
     "name": "stdout",
     "text": [
      "address     0.020912\n",
      "famsize    -0.073595\n",
      "Pstatus     0.024294\n",
      "famsup      0.145228\n",
      "famrel      0.039731\n",
      "absences   -0.062700\n",
      "Mjob       -0.009009\n",
      "Fjob       -0.058225\n",
      "dtype: float64\n",
      "Accuracy: 0.137 (0.040)\n"
     ]
    }
   ],
   "source": [
    "print(X_study_3.corrwith(Y_study, axis=0))\n",
    "\n",
    "scr = []\n",
    "for i in range(2,30):\n",
    "    kf = KFold(n_splits=i, random_state=42, shuffle=True)\n",
    "    model_tmp = GaussianNB()\n",
    "    score_tmp = cross_val_score(model_tmp, X_study_3, Y_study, scoring='accuracy', cv=kf)\n",
    "    scr.append((mean(score_tmp), std(score_tmp)))\n",
    "\n",
    "#print(max(scr))\n",
    "#print(scr.index(max(scr))+2)\n",
    "fold_Y_study_3 = scr.index(max(scr))+2\n",
    "\n",
    "kf_Y_study_3 = KFold(n_splits=fold_Y_study_3, random_state=42, shuffle=True)\n",
    "bayes_Y_study_3 = GaussianNB()\n",
    "score_Y_study_3 = cross_val_score(bayes_Y_study_3, X_study_3, Y_study, scoring='accuracy', cv=kf_Y_study_3)\n",
    "print('Accuracy: %.3f (%.3f)' % (mean(score_Y_study_3), std(score_Y_study_3)))"
   ]
  },
  {
   "cell_type": "code",
   "execution_count": 51,
   "metadata": {},
   "outputs": [
    {
     "output_type": "stream",
     "name": "stdout",
     "text": [
      "Accuracy média normal: 0.142 +/- 0.025\nAccuracy média s/ profissão: 0.405 +/- 0.117\nAccuracy média s/ educação: 0.137 +/- 0.040\n"
     ]
    }
   ],
   "source": [
    "print('Accuracy média normal: %.3f +/- %.3f' % (mean(score_Y_study), std(score_Y_study)))\n",
    "print('Accuracy média s/ profissão: %.3f +/- %.3f' % (mean(score_Y_study_2), std(score_Y_study_2)))\n",
    "print('Accuracy média s/ educação: %.3f +/- %.3f' % (mean(score_Y_study_3), std(score_Y_study_3)))"
   ]
  },
  {
   "cell_type": "code",
   "execution_count": null,
   "metadata": {},
   "outputs": [],
   "source": []
  }
 ]
}